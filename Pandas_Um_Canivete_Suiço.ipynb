{
  "nbformat": 4,
  "nbformat_minor": 0,
  "metadata": {
    "colab": {
      "name": "Pandas - Um Canivete Suiço.ipynb",
      "provenance": [],
      "collapsed_sections": [],
      "authorship_tag": "ABX9TyMkbzTJs1MbwPTbgM2E+1od",
      "include_colab_link": true
    },
    "kernelspec": {
      "name": "python3",
      "display_name": "Python 3"
    }
  },
  "cells": [
    {
      "cell_type": "markdown",
      "metadata": {
        "id": "view-in-github",
        "colab_type": "text"
      },
      "source": [
        "<a href=\"https://colab.research.google.com/github/tuliogaio/python/blob/master/Pandas_Um_Canivete_Sui%C3%A7o.ipynb\" target=\"_parent\"><img src=\"https://colab.research.google.com/assets/colab-badge.svg\" alt=\"Open In Colab\"/></a>"
      ]
    },
    {
      "cell_type": "markdown",
      "metadata": {
        "id": "KPGnmaYCd3PX"
      },
      "source": [
        "#**Pandas - Um verdadeiro Canivete Suiço**\n",
        "_Leitura, escrita, manipulação, visualização, insights e muito mais! Pinte e borde com os dados e essa biblioteca que é aprendizado obrigatório quando falamos de Python e Ciência de Dados._\n"
      ]
    },
    {
      "cell_type": "markdown",
      "metadata": {
        "id": "BVhskw6AQeFx"
      },
      "source": [
        "[Designed by rawpixel.com / Freepik](http://www.freepik.com)"
      ]
    },
    {
      "cell_type": "markdown",
      "metadata": {
        "id": "m6vZeBL_hGet"
      },
      "source": [
        "Sou desenvolver de software há alguns anos, mas resolvi me aventurar pelo mundo do Python o pouco tempo. Entre uma leitura aqui e um curso ali, identifiquei os mais variados cenários para o uso da tecnologia, principalmente voltados para a área de Ciência de Dados. E quando unimos esses dois termos, **Python e Ciência de Dados** no [Google](https://www.google.com/search?q=python+e+ciencia+de+dados) somos direcionados para aproximadamente **1.130.000 resultados** (Vai lá, Google It!) que somadas aos anúncios dos cursos e tutoriais do Youtube, os 10 primeiros links com certeza irão citar algo chamado **Pandas**."
      ]
    },
    {
      "cell_type": "markdown",
      "metadata": {
        "id": "5StlN58Fs4Cs"
      },
      "source": [
        "###**Ok, e aí ... quem são, onde vivem, o que comem?**###"
      ]
    },
    {
      "cell_type": "markdown",
      "metadata": {
        "id": "QbhG4EkXvamB"
      },
      "source": [
        "Calma lá! Vamos perguntar primeiro para os universitários.\n",
        "\n",
        "\n",
        "> **O pandas é uma ferramenta de manipulação e análise de dados de código aberto rápida, poderosa, flexível e fácil de usar, construído com base na linguagem de programação Python.**\n",
        "\n",
        "Assim descreveram a turma do site [pandas](https://pandas.pydata.org/). E não faltam elogios por aí de quem já utiliza a biblioteca integrada ao Python. Particularmente, quando comecei a utilizá-la, percebi que ela era um verdadeiro canivete suiço. Baseada no Numpy, outra biblioteca, fornece recursos para trabalhar facilmente com estruturas de dados e ferramentas para análise dados com a linguagem.\n",
        "\n"
      ]
    },
    {
      "cell_type": "markdown",
      "metadata": {
        "id": "4STs5VgWxDQr"
      },
      "source": [
        "###**Então vamos abrir esse canivete e desvendar por que essa biblioteca é tão fantástica.**###"
      ]
    },
    {
      "cell_type": "markdown",
      "metadata": {
        "id": "Poo7rJV5y9T6"
      },
      "source": [
        "Demonstrarei algumas de suas funcionalidades utilizando o **[Colab](https://colab.research.google.com/)**, um ambiente do Google que nos permite a execução de códigos em Python dispensando muitas configurações. Mas tudo que será demonstrado aqui poderá ser executado localmente, utilizando **Anaconda** e seus notebooks Jupyter ou mesmo em um ambiente configurado apenas com o Python."
      ]
    },
    {
      "cell_type": "markdown",
      "metadata": {
        "id": "yyv2U0ua2eQn"
      },
      "source": [
        "Primeiramente, vamos nos certificar que a biblioteca esteja instalada."
      ]
    },
    {
      "cell_type": "markdown",
      "metadata": {
        "id": "I3R9R0TgInVP"
      },
      "source": [
        "\n",
        "\n",
        "```\n",
        "# Verificando se a biblioteca esta instalada no ambiente\n",
        "!pip show pandas\n",
        "# Para verificar todas as bibliotecas utilize: \n",
        "# !pip freeze\n",
        "```\n",
        "\n"
      ]
    },
    {
      "cell_type": "code",
      "metadata": {
        "id": "RoB8v3-B3P2G",
        "outputId": "d5f04902-a956-44eb-8a9f-75d3eb7d80e9",
        "colab": {
          "base_uri": "https://localhost:8080/",
          "height": 207
        }
      },
      "source": [
        "# Verificando se a biblioteca esta instalada no ambiente\n",
        "!pip show pandas\n",
        "# Para verificar todas as bibliotecas utilize: \n",
        "# !pip freeze"
      ],
      "execution_count": null,
      "outputs": [
        {
          "output_type": "stream",
          "text": [
            "Name: pandas\n",
            "Version: 1.0.5\n",
            "Summary: Powerful data structures for data analysis, time series, and statistics\n",
            "Home-page: https://pandas.pydata.org\n",
            "Author: None\n",
            "Author-email: None\n",
            "License: BSD\n",
            "Location: /usr/local/lib/python3.6/dist-packages\n",
            "Requires: pytz, python-dateutil, numpy\n",
            "Required-by: xarray, vega-datasets, statsmodels, sklearn-pandas, seaborn, pymc3, plotnine, pandas-profiling, pandas-gbq, pandas-datareader, mlxtend, mizani, holoviews, gspread-dataframe, google-colab, fix-yahoo-finance, fbprophet, fastai, cufflinks, cmdstanpy, altair\n"
          ],
          "name": "stdout"
        }
      ]
    },
    {
      "cell_type": "markdown",
      "metadata": {
        "id": "NxUip9V3333N"
      },
      "source": [
        "A rotina acima verifica se a biblioteca Pandas esta instalada. Se não, devemos instalá-la e importá-la para iniciar nossos estudos."
      ]
    },
    {
      "cell_type": "markdown",
      "metadata": {
        "id": "1ee-E5dqIWd1"
      },
      "source": [
        "```\n",
        "# Instalando a biblioteca no ambiente\n",
        "!pip install pandas\n",
        "```"
      ]
    },
    {
      "cell_type": "code",
      "metadata": {
        "id": "d_4XTonW4Fzt",
        "outputId": "82c6a55e-1595-4ed5-d869-ccd6171a2eb8",
        "colab": {
          "base_uri": "https://localhost:8080/",
          "height": 122
        }
      },
      "source": [
        "# Instalando a biblioteca no ambiente\n",
        "!pip install pandas"
      ],
      "execution_count": null,
      "outputs": [
        {
          "output_type": "stream",
          "text": [
            "Requirement already satisfied: pandas in /usr/local/lib/python3.6/dist-packages (1.0.5)\n",
            "Requirement already satisfied: pytz>=2017.2 in /usr/local/lib/python3.6/dist-packages (from pandas) (2018.9)\n",
            "Requirement already satisfied: numpy>=1.13.3 in /usr/local/lib/python3.6/dist-packages (from pandas) (1.18.5)\n",
            "Requirement already satisfied: python-dateutil>=2.6.1 in /usr/local/lib/python3.6/dist-packages (from pandas) (2.8.1)\n",
            "Requirement already satisfied: six>=1.5 in /usr/local/lib/python3.6/dist-packages (from python-dateutil>=2.6.1->pandas) (1.15.0)\n"
          ],
          "name": "stdout"
        }
      ]
    },
    {
      "cell_type": "markdown",
      "metadata": {
        "id": "yMJ5WkFvItDo"
      },
      "source": [
        "\n",
        "\n",
        "```\n",
        "# Importando a biblioteca e criando um álias ela, que por convenção chamaremos de pd. \n",
        "import pandas as pd\n",
        "```\n",
        "\n"
      ]
    },
    {
      "cell_type": "code",
      "metadata": {
        "id": "MJJF8PeH4RcR"
      },
      "source": [
        "# Importando a biblioteca e criando um álias ela, que por convenção chamaremos de pd. \n",
        "import pandas as pd"
      ],
      "execution_count": null,
      "outputs": []
    },
    {
      "cell_type": "markdown",
      "metadata": {
        "id": "PYLtHU9b6Js1"
      },
      "source": [
        "####**Pandas e suas principais estruturas de dados**####"
      ]
    },
    {
      "cell_type": "markdown",
      "metadata": {
        "id": "Eck9QnH_7k5w"
      },
      "source": [
        "As **Series** são as estruturas de dados mais simples do Pandas. Podem ser consideradas como um Vetor ou Array unidimensional capaz de armazenar qualquer tipo de dado."
      ]
    },
    {
      "cell_type": "markdown",
      "metadata": {
        "id": "h0vQ4ShpJRk7"
      },
      "source": [
        "\n",
        "\n",
        "```\n",
        "# Criando um série manualmente\n",
        "serie = pd.Series(['Atlético Mineiro', 'Internacional', 'São Paulo', 'Palmeiras', 'Vasco'], index=[1, 2, 3, 4, 5])\n",
        "```\n",
        "\n"
      ]
    },
    {
      "cell_type": "code",
      "metadata": {
        "id": "bwP-HkWa9jNt"
      },
      "source": [
        "# Criando um série manualmente\n",
        "serie = pd.Series(['Atlético Mineiro', 'Internacional', 'São Paulo', 'Palmeiras', 'Vasco'], index=[1, 2, 3, 4, 5])"
      ],
      "execution_count": null,
      "outputs": []
    },
    {
      "cell_type": "markdown",
      "metadata": {
        "id": "8p1C77QMDo7J"
      },
      "source": [
        "Como podemos ver, para criar uma série manualmente basta informar um conjunto de dados a função Series do Pandas. Para o exemplo, utilizamos uma lista de clubes do Campeonato Brasileiro. O segundo parâmetro (opcional), informa o indice para cada um dos dados da série."
      ]
    },
    {
      "cell_type": "markdown",
      "metadata": {
        "id": "f5a93-OkJp0J"
      },
      "source": [
        "\n",
        "\n",
        "```\n",
        "# Visualizando os dados\n",
        "serie\n",
        "```\n",
        "\n"
      ]
    },
    {
      "cell_type": "code",
      "metadata": {
        "id": "v6AkUyT_-QhO",
        "outputId": "0bc1f9b7-e3f9-4da2-d9c6-b68c52944b39",
        "colab": {
          "base_uri": "https://localhost:8080/"
        }
      },
      "source": [
        "# Visualizando os dados\n",
        "serie"
      ],
      "execution_count": null,
      "outputs": [
        {
          "output_type": "stream",
          "text": [
            "1    Atlético Mineiro\n",
            "2       Internacional\n",
            "3           São Paulo\n",
            "4           Palmeiras\n",
            "5               Vasco\n",
            "dtype: object\n"
          ],
          "name": "stdout"
        }
      ]
    },
    {
      "cell_type": "markdown",
      "metadata": {
        "id": "M6cB_6el_ASa"
      },
      "source": [
        "Chamamos o outro tipo de estrutura de dados do Pandas de **DataFrame**,  pode ser considerado uma coleção de séries. São matrizes bidimensionais capazes de armazenar multiplos tipos de dados."
      ]
    },
    {
      "cell_type": "markdown",
      "metadata": {
        "id": "l8gzGM-gKbcg"
      },
      "source": [
        "\n",
        "\n",
        "```\n",
        "# Criando o dicionário que irá popular o nosso DataFrame\n",
        "data = {'Classificação': [1, 2, 3, 4, 5], 'Clube': ['Atlético Mineiro', 'Internacional', 'São Paulo', 'Palmeiras', 'Vasco'], 'Pontos': [24, 21, 19, 19, 18]}\n",
        "```\n",
        "\n"
      ]
    },
    {
      "cell_type": "code",
      "metadata": {
        "id": "28YGvHWM_x7E"
      },
      "source": [
        "# Criando o dicionário que irá popular o nosso DataFrame\n",
        "data = {'Classificação': [1, 2, 3, 4, 5], 'Clube': ['Atlético Mineiro', 'Internacional', 'São Paulo', 'Palmeiras', 'Vasco'], 'Pontos': [24, 21, 19, 19, 18]}"
      ],
      "execution_count": null,
      "outputs": []
    },
    {
      "cell_type": "markdown",
      "metadata": {
        "id": "XWHOsM68KruK"
      },
      "source": [
        "\n",
        "\n",
        "```\n",
        "# Populando o DataFrame com o dicionário\n",
        "dataframe = pd.DataFrame(data, index=[1,2,3,4,5])\n",
        "```\n",
        "\n"
      ]
    },
    {
      "cell_type": "code",
      "metadata": {
        "id": "OjsPZvYhAmdl"
      },
      "source": [
        "# Populando o DataFrame com o dicionário\n",
        "dataframe = pd.DataFrame(data, index=[1,2,3,4,5])"
      ],
      "execution_count": null,
      "outputs": []
    },
    {
      "cell_type": "markdown",
      "metadata": {
        "id": "_aRQTPy5PV2V"
      },
      "source": [
        "Existem várias formas de criá-los manualmente, entretanto uma das formas mais  fáceis é usando os dicionários (Dict) da linguagem Python. Informamos a função DataFrame do Pandas, uma coleção de séries nomeadas e o índice (opcional) assim como vemos anteriormente na criação de uma série."
      ]
    },
    {
      "cell_type": "markdown",
      "metadata": {
        "id": "I6itNoDsK_jd"
      },
      "source": [
        "\n",
        "\n",
        "```\n",
        "# Visualizando os dados\n",
        "dataframe.head()\n",
        "```\n",
        "\n"
      ]
    },
    {
      "cell_type": "code",
      "metadata": {
        "id": "gt4l4LUEA_AL",
        "outputId": "e28d590f-4f04-450a-f41c-0153d20bd00b",
        "colab": {
          "base_uri": "https://localhost:8080/"
        }
      },
      "source": [
        "# Visualizando os dados\n",
        "dataframe.head()"
      ],
      "execution_count": null,
      "outputs": [
        {
          "output_type": "execute_result",
          "data": {
            "text/html": [
              "<div>\n",
              "<style scoped>\n",
              "    .dataframe tbody tr th:only-of-type {\n",
              "        vertical-align: middle;\n",
              "    }\n",
              "\n",
              "    .dataframe tbody tr th {\n",
              "        vertical-align: top;\n",
              "    }\n",
              "\n",
              "    .dataframe thead th {\n",
              "        text-align: right;\n",
              "    }\n",
              "</style>\n",
              "<table border=\"1\" class=\"dataframe\">\n",
              "  <thead>\n",
              "    <tr style=\"text-align: right;\">\n",
              "      <th></th>\n",
              "      <th>Classificação</th>\n",
              "      <th>Clube</th>\n",
              "      <th>Pontos</th>\n",
              "    </tr>\n",
              "  </thead>\n",
              "  <tbody>\n",
              "    <tr>\n",
              "      <th>1</th>\n",
              "      <td>1</td>\n",
              "      <td>Atlético Mineiro</td>\n",
              "      <td>24</td>\n",
              "    </tr>\n",
              "    <tr>\n",
              "      <th>2</th>\n",
              "      <td>2</td>\n",
              "      <td>Internacional</td>\n",
              "      <td>21</td>\n",
              "    </tr>\n",
              "    <tr>\n",
              "      <th>3</th>\n",
              "      <td>3</td>\n",
              "      <td>São Paulo</td>\n",
              "      <td>19</td>\n",
              "    </tr>\n",
              "    <tr>\n",
              "      <th>4</th>\n",
              "      <td>4</td>\n",
              "      <td>Palmeiras</td>\n",
              "      <td>19</td>\n",
              "    </tr>\n",
              "    <tr>\n",
              "      <th>5</th>\n",
              "      <td>5</td>\n",
              "      <td>Vasco</td>\n",
              "      <td>18</td>\n",
              "    </tr>\n",
              "  </tbody>\n",
              "</table>\n",
              "</div>"
            ],
            "text/plain": [
              "   Classificação             Clube  Pontos\n",
              "1              1  Atlético Mineiro      24\n",
              "2              2     Internacional      21\n",
              "3              3         São Paulo      19\n",
              "4              4         Palmeiras      19\n",
              "5              5             Vasco      18"
            ]
          },
          "metadata": {
            "tags": []
          },
          "execution_count": 58
        }
      ]
    },
    {
      "cell_type": "markdown",
      "metadata": {
        "id": "EIXrSoO7Rjt_"
      },
      "source": [
        "####**Fácil, não é? A mágica ainda está por vir! Não precisamos criar tudo manualmente.**####"
      ]
    },
    {
      "cell_type": "markdown",
      "metadata": {
        "id": "7N8ve6aXSzVm"
      },
      "source": [
        "O Pandas nos fornece uma gama de funções que nos permitem conectar as mais variadas fontes de dados e associá-las a Series ou DataFrame. Algumas opções são:\n",
        "\n",
        "*   CSV\n",
        "*   Excel\n",
        "*   JSON\n",
        "*   SQL\n",
        "\n",
        "Temos outras opções, mas com estas quatro já da pra imaginar uma infinidade de possibilidades. Vamos ver isso ná prática, Hand On!"
      ]
    },
    {
      "cell_type": "markdown",
      "metadata": {
        "id": "1YA8y8NHeTND"
      },
      "source": [
        "Para nosso exemplo, vamos continuar trabalhando com os dados da tabela de classificação do Campeonato Brasileiro. Porém desta vez os dados estão armazenados em uma planilha de Excel armazenada no repositório de arquivos do Colab, mas poderia ser um arquivo salvo em seu disco rígido ou em algum banco de dados em um Datacenter logo alí do outro lado do mundo. "
      ]
    },
    {
      "cell_type": "markdown",
      "metadata": {
        "id": "CPJAuC2I5DWd"
      },
      "source": [
        "**Lendo arquivos Excel**"
      ]
    },
    {
      "cell_type": "markdown",
      "metadata": {
        "id": "pXVhtb4gL2Xo"
      },
      "source": [
        "\n",
        "\n",
        "```\n",
        "dataframe = pd.read_excel(\"/content/tabela_campeonato_brasileiro_2020.xlsx\")\n",
        "```\n",
        "\n"
      ]
    },
    {
      "cell_type": "code",
      "metadata": {
        "id": "RPJ-RDn3f-vP"
      },
      "source": [
        "dataframe = pd.read_excel(\"/content/tabela_campeonato_brasileiro_2020.xlsx\")"
      ],
      "execution_count": null,
      "outputs": []
    },
    {
      "cell_type": "markdown",
      "metadata": {
        "id": "jwGuxZJQj-Vq"
      },
      "source": [
        "Simples assim! Com apenas uma linha de código, importamos toda a tabela contida no arquivo informado no primeiro parâmetro, armazenando os dados na variável \"dataframe\". Vale lembrar que a grande maioria dos métodos tem inúmeros parâmetros, o que possiblita personalizarmos a chamada da função conforme a necessidade."
      ]
    },
    {
      "cell_type": "markdown",
      "metadata": {
        "id": "ht_RnAkbmwCO"
      },
      "source": [
        "####**Manipulando os dados com o Pandas**####"
      ]
    },
    {
      "cell_type": "markdown",
      "metadata": {
        "id": "0Wsn96arDLGl"
      },
      "source": [
        "A partir daí, temos inúmeras possiblidades para manipular os dados e obter mais informações sobre eles."
      ]
    },
    {
      "cell_type": "markdown",
      "metadata": {
        "id": "CfRUpFcl4cO5"
      },
      "source": [
        "**Um breve resumo dos dados**"
      ]
    },
    {
      "cell_type": "markdown",
      "metadata": {
        "id": "rw_2Cd5tMRAJ"
      },
      "source": [
        "\n",
        "\n",
        "```\n",
        "# Visualizando os cinco primeiros registros.\n",
        "dataframe.head()\n",
        "```\n",
        "\n"
      ]
    },
    {
      "cell_type": "code",
      "metadata": {
        "id": "Q3BLb9kPgPhn",
        "outputId": "4008239c-3779-427e-98da-7773a97750a2",
        "colab": {
          "base_uri": "https://localhost:8080/",
          "height": 204
        }
      },
      "source": [
        "# Visualizando os cinco primeiros registros.\n",
        "dataframe.head()"
      ],
      "execution_count": null,
      "outputs": [
        {
          "output_type": "execute_result",
          "data": {
            "text/html": [
              "<div>\n",
              "<style scoped>\n",
              "    .dataframe tbody tr th:only-of-type {\n",
              "        vertical-align: middle;\n",
              "    }\n",
              "\n",
              "    .dataframe tbody tr th {\n",
              "        vertical-align: top;\n",
              "    }\n",
              "\n",
              "    .dataframe thead th {\n",
              "        text-align: right;\n",
              "    }\n",
              "</style>\n",
              "<table border=\"1\" class=\"dataframe\">\n",
              "  <thead>\n",
              "    <tr style=\"text-align: right;\">\n",
              "      <th></th>\n",
              "      <th>CLASSIFICAÇÃO</th>\n",
              "      <th>CLUBE</th>\n",
              "      <th>P</th>\n",
              "      <th>J</th>\n",
              "      <th>V</th>\n",
              "      <th>E</th>\n",
              "      <th>D</th>\n",
              "      <th>GP</th>\n",
              "      <th>GC</th>\n",
              "      <th>SG</th>\n",
              "      <th>%</th>\n",
              "    </tr>\n",
              "  </thead>\n",
              "  <tbody>\n",
              "    <tr>\n",
              "      <th>0</th>\n",
              "      <td>1</td>\n",
              "      <td>Atlético-MG</td>\n",
              "      <td>24</td>\n",
              "      <td>11</td>\n",
              "      <td>8</td>\n",
              "      <td>0</td>\n",
              "      <td>3</td>\n",
              "      <td>21</td>\n",
              "      <td>13</td>\n",
              "      <td>8</td>\n",
              "      <td>72.7</td>\n",
              "    </tr>\n",
              "    <tr>\n",
              "      <th>1</th>\n",
              "      <td>2</td>\n",
              "      <td>Internacional</td>\n",
              "      <td>21</td>\n",
              "      <td>12</td>\n",
              "      <td>6</td>\n",
              "      <td>3</td>\n",
              "      <td>3</td>\n",
              "      <td>16</td>\n",
              "      <td>8</td>\n",
              "      <td>8</td>\n",
              "      <td>58.3</td>\n",
              "    </tr>\n",
              "    <tr>\n",
              "      <th>2</th>\n",
              "      <td>3</td>\n",
              "      <td>São Paulo</td>\n",
              "      <td>19</td>\n",
              "      <td>11</td>\n",
              "      <td>5</td>\n",
              "      <td>4</td>\n",
              "      <td>2</td>\n",
              "      <td>14</td>\n",
              "      <td>12</td>\n",
              "      <td>2</td>\n",
              "      <td>57.6</td>\n",
              "    </tr>\n",
              "    <tr>\n",
              "      <th>3</th>\n",
              "      <td>4</td>\n",
              "      <td>Palmeiras</td>\n",
              "      <td>19</td>\n",
              "      <td>11</td>\n",
              "      <td>4</td>\n",
              "      <td>7</td>\n",
              "      <td>0</td>\n",
              "      <td>15</td>\n",
              "      <td>10</td>\n",
              "      <td>5</td>\n",
              "      <td>57.6</td>\n",
              "    </tr>\n",
              "    <tr>\n",
              "      <th>4</th>\n",
              "      <td>5</td>\n",
              "      <td>Vasco</td>\n",
              "      <td>18</td>\n",
              "      <td>11</td>\n",
              "      <td>5</td>\n",
              "      <td>3</td>\n",
              "      <td>3</td>\n",
              "      <td>16</td>\n",
              "      <td>11</td>\n",
              "      <td>5</td>\n",
              "      <td>54.5</td>\n",
              "    </tr>\n",
              "  </tbody>\n",
              "</table>\n",
              "</div>"
            ],
            "text/plain": [
              "   CLASSIFICAÇÃO          CLUBE   P   J  V  E  D  GP  GC  SG     %\n",
              "0              1    Atlético-MG  24  11  8  0  3  21  13   8  72.7\n",
              "1              2  Internacional  21  12  6  3  3  16   8   8  58.3\n",
              "2              3      São Paulo  19  11  5  4  2  14  12   2  57.6\n",
              "3              4      Palmeiras  19  11  4  7  0  15  10   5  57.6\n",
              "4              5          Vasco  18  11  5  3  3  16  11   5  54.5"
            ]
          },
          "metadata": {
            "tags": []
          },
          "execution_count": 60
        }
      ]
    },
    {
      "cell_type": "markdown",
      "metadata": {
        "id": "IkfQGJD65M3h"
      },
      "source": [
        "**Visualizando a cauda dos dados**"
      ]
    },
    {
      "cell_type": "markdown",
      "metadata": {
        "id": "gJg0lhQpNLZl"
      },
      "source": [
        "\n",
        "\n",
        "```\n",
        "# Visualizando os quatro últimos registros, conforme parâmetro.\n",
        "dataframe.tail(4)\n",
        "```\n",
        "\n"
      ]
    },
    {
      "cell_type": "code",
      "metadata": {
        "id": "7N1_1g3ns9Yq",
        "outputId": "2f6de109-cfec-4e58-b533-a1e38a94ecb0",
        "colab": {
          "base_uri": "https://localhost:8080/",
          "height": 173
        }
      },
      "source": [
        "# Visualizando os quatro últimos registros, conforme parâmetro.\n",
        "dataframe.tail(4)"
      ],
      "execution_count": null,
      "outputs": [
        {
          "output_type": "execute_result",
          "data": {
            "text/html": [
              "<div>\n",
              "<style scoped>\n",
              "    .dataframe tbody tr th:only-of-type {\n",
              "        vertical-align: middle;\n",
              "    }\n",
              "\n",
              "    .dataframe tbody tr th {\n",
              "        vertical-align: top;\n",
              "    }\n",
              "\n",
              "    .dataframe thead th {\n",
              "        text-align: right;\n",
              "    }\n",
              "</style>\n",
              "<table border=\"1\" class=\"dataframe\">\n",
              "  <thead>\n",
              "    <tr style=\"text-align: right;\">\n",
              "      <th></th>\n",
              "      <th>CLASSIFICAÇÃO</th>\n",
              "      <th>CLUBE</th>\n",
              "      <th>P</th>\n",
              "      <th>J</th>\n",
              "      <th>V</th>\n",
              "      <th>E</th>\n",
              "      <th>D</th>\n",
              "      <th>GP</th>\n",
              "      <th>GC</th>\n",
              "      <th>SG</th>\n",
              "      <th>%</th>\n",
              "    </tr>\n",
              "  </thead>\n",
              "  <tbody>\n",
              "    <tr>\n",
              "      <th>16</th>\n",
              "      <td>17</td>\n",
              "      <td>Bragantino</td>\n",
              "      <td>11</td>\n",
              "      <td>12</td>\n",
              "      <td>2</td>\n",
              "      <td>5</td>\n",
              "      <td>5</td>\n",
              "      <td>15</td>\n",
              "      <td>19</td>\n",
              "      <td>-4</td>\n",
              "      <td>30.6</td>\n",
              "    </tr>\n",
              "    <tr>\n",
              "      <th>17</th>\n",
              "      <td>18</td>\n",
              "      <td>Botafogo</td>\n",
              "      <td>11</td>\n",
              "      <td>11</td>\n",
              "      <td>1</td>\n",
              "      <td>8</td>\n",
              "      <td>2</td>\n",
              "      <td>10</td>\n",
              "      <td>12</td>\n",
              "      <td>-2</td>\n",
              "      <td>33.3</td>\n",
              "    </tr>\n",
              "    <tr>\n",
              "      <th>18</th>\n",
              "      <td>19</td>\n",
              "      <td>Goiás</td>\n",
              "      <td>9</td>\n",
              "      <td>9</td>\n",
              "      <td>2</td>\n",
              "      <td>3</td>\n",
              "      <td>4</td>\n",
              "      <td>13</td>\n",
              "      <td>15</td>\n",
              "      <td>-2</td>\n",
              "      <td>33.3</td>\n",
              "    </tr>\n",
              "    <tr>\n",
              "      <th>19</th>\n",
              "      <td>20</td>\n",
              "      <td>Bahia</td>\n",
              "      <td>9</td>\n",
              "      <td>11</td>\n",
              "      <td>2</td>\n",
              "      <td>3</td>\n",
              "      <td>6</td>\n",
              "      <td>12</td>\n",
              "      <td>19</td>\n",
              "      <td>-7</td>\n",
              "      <td>27.3</td>\n",
              "    </tr>\n",
              "  </tbody>\n",
              "</table>\n",
              "</div>"
            ],
            "text/plain": [
              "    CLASSIFICAÇÃO       CLUBE   P   J  V  E  D  GP  GC  SG     %\n",
              "16             17  Bragantino  11  12  2  5  5  15  19  -4  30.6\n",
              "17             18    Botafogo  11  11  1  8  2  10  12  -2  33.3\n",
              "18             19       Goiás   9   9  2  3  4  13  15  -2  33.3\n",
              "19             20       Bahia   9  11  2  3  6  12  19  -7  27.3"
            ]
          },
          "metadata": {
            "tags": []
          },
          "execution_count": 61
        }
      ]
    },
    {
      "cell_type": "markdown",
      "metadata": {
        "id": "e29_S1645uaN"
      },
      "source": [
        "**Insights estatísticos**"
      ]
    },
    {
      "cell_type": "markdown",
      "metadata": {
        "id": "hcajPoIMnRxu"
      },
      "source": [
        "O comando abaixo retorna um resumo estatístico dos dados do DataFrame. Número de registros, média dos dados, desvio padrão, mínimo e máximo são algumas das informações disponíveis."
      ]
    },
    {
      "cell_type": "markdown",
      "metadata": {
        "id": "J4mUOKyoNuCL"
      },
      "source": [
        "\n",
        "\n",
        "```\n",
        "# Visualizando informações estatísticas\n",
        "dataframe.describe()\n",
        "```\n",
        "\n"
      ]
    },
    {
      "cell_type": "code",
      "metadata": {
        "id": "feVgB8sHs4sB",
        "outputId": "0ee95821-cf29-41cf-cfb8-f1275c16353a",
        "colab": {
          "base_uri": "https://localhost:8080/",
          "height": 297
        }
      },
      "source": [
        "# Visualizando informações estatísticas\n",
        "dataframe.describe()"
      ],
      "execution_count": null,
      "outputs": [
        {
          "output_type": "execute_result",
          "data": {
            "text/html": [
              "<div>\n",
              "<style scoped>\n",
              "    .dataframe tbody tr th:only-of-type {\n",
              "        vertical-align: middle;\n",
              "    }\n",
              "\n",
              "    .dataframe tbody tr th {\n",
              "        vertical-align: top;\n",
              "    }\n",
              "\n",
              "    .dataframe thead th {\n",
              "        text-align: right;\n",
              "    }\n",
              "</style>\n",
              "<table border=\"1\" class=\"dataframe\">\n",
              "  <thead>\n",
              "    <tr style=\"text-align: right;\">\n",
              "      <th></th>\n",
              "      <th>CLASSIFICAÇÃO</th>\n",
              "      <th>P</th>\n",
              "      <th>J</th>\n",
              "      <th>V</th>\n",
              "      <th>E</th>\n",
              "      <th>D</th>\n",
              "      <th>GP</th>\n",
              "      <th>GC</th>\n",
              "      <th>SG</th>\n",
              "      <th>%</th>\n",
              "    </tr>\n",
              "  </thead>\n",
              "  <tbody>\n",
              "    <tr>\n",
              "      <th>count</th>\n",
              "      <td>20.00000</td>\n",
              "      <td>20.000000</td>\n",
              "      <td>20.000000</td>\n",
              "      <td>20.000000</td>\n",
              "      <td>20.000000</td>\n",
              "      <td>20.000000</td>\n",
              "      <td>20.000000</td>\n",
              "      <td>20.000000</td>\n",
              "      <td>20.000000</td>\n",
              "      <td>20.000000</td>\n",
              "    </tr>\n",
              "    <tr>\n",
              "      <th>mean</th>\n",
              "      <td>10.50000</td>\n",
              "      <td>15.000000</td>\n",
              "      <td>11.200000</td>\n",
              "      <td>3.800000</td>\n",
              "      <td>3.600000</td>\n",
              "      <td>3.800000</td>\n",
              "      <td>13.300000</td>\n",
              "      <td>13.300000</td>\n",
              "      <td>0.000000</td>\n",
              "      <td>44.535000</td>\n",
              "    </tr>\n",
              "    <tr>\n",
              "      <th>std</th>\n",
              "      <td>5.91608</td>\n",
              "      <td>4.078183</td>\n",
              "      <td>0.695852</td>\n",
              "      <td>1.641565</td>\n",
              "      <td>1.984148</td>\n",
              "      <td>1.609184</td>\n",
              "      <td>2.921787</td>\n",
              "      <td>3.197038</td>\n",
              "      <td>4.065257</td>\n",
              "      <td>11.622676</td>\n",
              "    </tr>\n",
              "    <tr>\n",
              "      <th>min</th>\n",
              "      <td>1.00000</td>\n",
              "      <td>9.000000</td>\n",
              "      <td>9.000000</td>\n",
              "      <td>1.000000</td>\n",
              "      <td>0.000000</td>\n",
              "      <td>0.000000</td>\n",
              "      <td>8.000000</td>\n",
              "      <td>8.000000</td>\n",
              "      <td>-7.000000</td>\n",
              "      <td>27.300000</td>\n",
              "    </tr>\n",
              "    <tr>\n",
              "      <th>25%</th>\n",
              "      <td>5.75000</td>\n",
              "      <td>11.750000</td>\n",
              "      <td>11.000000</td>\n",
              "      <td>2.750000</td>\n",
              "      <td>2.000000</td>\n",
              "      <td>3.000000</td>\n",
              "      <td>12.000000</td>\n",
              "      <td>10.750000</td>\n",
              "      <td>-2.250000</td>\n",
              "      <td>35.625000</td>\n",
              "    </tr>\n",
              "    <tr>\n",
              "      <th>50%</th>\n",
              "      <td>10.50000</td>\n",
              "      <td>14.000000</td>\n",
              "      <td>11.000000</td>\n",
              "      <td>4.000000</td>\n",
              "      <td>3.000000</td>\n",
              "      <td>4.000000</td>\n",
              "      <td>13.500000</td>\n",
              "      <td>13.000000</td>\n",
              "      <td>-1.000000</td>\n",
              "      <td>42.400000</td>\n",
              "    </tr>\n",
              "    <tr>\n",
              "      <th>75%</th>\n",
              "      <td>15.25000</td>\n",
              "      <td>18.000000</td>\n",
              "      <td>12.000000</td>\n",
              "      <td>5.000000</td>\n",
              "      <td>4.250000</td>\n",
              "      <td>5.000000</td>\n",
              "      <td>15.000000</td>\n",
              "      <td>15.250000</td>\n",
              "      <td>2.000000</td>\n",
              "      <td>54.500000</td>\n",
              "    </tr>\n",
              "    <tr>\n",
              "      <th>max</th>\n",
              "      <td>20.00000</td>\n",
              "      <td>24.000000</td>\n",
              "      <td>12.000000</td>\n",
              "      <td>8.000000</td>\n",
              "      <td>8.000000</td>\n",
              "      <td>6.000000</td>\n",
              "      <td>21.000000</td>\n",
              "      <td>19.000000</td>\n",
              "      <td>8.000000</td>\n",
              "      <td>72.700000</td>\n",
              "    </tr>\n",
              "  </tbody>\n",
              "</table>\n",
              "</div>"
            ],
            "text/plain": [
              "       CLASSIFICAÇÃO          P          J  ...         GC         SG          %\n",
              "count       20.00000  20.000000  20.000000  ...  20.000000  20.000000  20.000000\n",
              "mean        10.50000  15.000000  11.200000  ...  13.300000   0.000000  44.535000\n",
              "std          5.91608   4.078183   0.695852  ...   3.197038   4.065257  11.622676\n",
              "min          1.00000   9.000000   9.000000  ...   8.000000  -7.000000  27.300000\n",
              "25%          5.75000  11.750000  11.000000  ...  10.750000  -2.250000  35.625000\n",
              "50%         10.50000  14.000000  11.000000  ...  13.000000  -1.000000  42.400000\n",
              "75%         15.25000  18.000000  12.000000  ...  15.250000   2.000000  54.500000\n",
              "max         20.00000  24.000000  12.000000  ...  19.000000   8.000000  72.700000\n",
              "\n",
              "[8 rows x 10 columns]"
            ]
          },
          "metadata": {
            "tags": []
          },
          "execution_count": 62
        }
      ]
    },
    {
      "cell_type": "markdown",
      "metadata": {
        "id": "3FKzbUw9wUsD"
      },
      "source": [
        "Podemos obter por exemplo, a quantidade de gols marcados no campeonato."
      ]
    },
    {
      "cell_type": "markdown",
      "metadata": {
        "id": "YUNVxKc8O20I"
      },
      "source": [
        "\n",
        "\n",
        "```\n",
        "# Somando dados de uma coluna\n",
        "dataframe['GP'].sum() \n",
        ">> 266\n",
        "```\n",
        "\n"
      ]
    },
    {
      "cell_type": "code",
      "metadata": {
        "id": "0dpTa2x_yY3H",
        "outputId": "9de4c474-5972-4a41-f18d-c18402848092",
        "colab": {
          "base_uri": "https://localhost:8080/",
          "height": 34
        }
      },
      "source": [
        "# Somando dados de uma coluna\n",
        "dataframe['GP'].sum()"
      ],
      "execution_count": null,
      "outputs": [
        {
          "output_type": "execute_result",
          "data": {
            "text/plain": [
              "266"
            ]
          },
          "metadata": {
            "tags": []
          },
          "execution_count": 63
        }
      ]
    },
    {
      "cell_type": "markdown",
      "metadata": {
        "id": "tQuYY9f914DI"
      },
      "source": [
        "Quantos gols o melhor ataque do campeonato marcou."
      ]
    },
    {
      "cell_type": "markdown",
      "metadata": {
        "id": "ih_zvngDPOhK"
      },
      "source": [
        "\n",
        "\n",
        "```\n",
        "# Obtendo valor máximo de uma coluna\n",
        "dataframe['GP'].max()\n",
        ">> 21\n",
        "```\n",
        "\n"
      ]
    },
    {
      "cell_type": "code",
      "metadata": {
        "id": "y0FD6SAE2GTe",
        "outputId": "472369b4-7063-4d13-ba55-f9cb32e8d79b",
        "colab": {
          "base_uri": "https://localhost:8080/",
          "height": 34
        }
      },
      "source": [
        "# Obtendo valor máximo de uma coluna\n",
        "dataframe['GP'].max()"
      ],
      "execution_count": null,
      "outputs": [
        {
          "output_type": "execute_result",
          "data": {
            "text/plain": [
              "21"
            ]
          },
          "metadata": {
            "tags": []
          },
          "execution_count": 64
        }
      ]
    },
    {
      "cell_type": "markdown",
      "metadata": {
        "id": "kjRtghgNzShT"
      },
      "source": [
        "Ou mesmo descobrir quantos gols a melhor defesa do campeonato sofreu."
      ]
    },
    {
      "cell_type": "markdown",
      "metadata": {
        "id": "3MZWlxwZPbn_"
      },
      "source": [
        "\n",
        "\n",
        "```\n",
        "# Obtendo valor mínimo de uma coluna\n",
        "dataframe['GC'].min()\n",
        ">> 8\n",
        "```\n",
        "\n"
      ]
    },
    {
      "cell_type": "code",
      "metadata": {
        "id": "x9aP1CU_zdNo",
        "outputId": "81c016ba-51c4-4277-bd26-5bcf720de8a7",
        "colab": {
          "base_uri": "https://localhost:8080/",
          "height": 34
        }
      },
      "source": [
        "# Obtendo valor mínimo de uma coluna\n",
        "dataframe['GC'].min()"
      ],
      "execution_count": null,
      "outputs": [
        {
          "output_type": "execute_result",
          "data": {
            "text/plain": [
              "8"
            ]
          },
          "metadata": {
            "tags": []
          },
          "execution_count": 65
        }
      ]
    },
    {
      "cell_type": "markdown",
      "metadata": {
        "id": "G99YDQrE6gty"
      },
      "source": [
        "**Criando novas colunas no DataFrame**"
      ]
    },
    {
      "cell_type": "markdown",
      "metadata": {
        "id": "L573RNp0zgVD"
      },
      "source": [
        "Podemos facilmente criar colunas calculadas para obter mais informações sobre nossos dados. Vamos criar uma coluna contendo a média de gols por jogo para cada clube do nosso DataFrame."
      ]
    },
    {
      "cell_type": "markdown",
      "metadata": {
        "id": "hdQGxPgxPo_Y"
      },
      "source": [
        "\n",
        "\n",
        "```\n",
        "# Criando uma nova coluna no dataframe\n",
        "dataframe['MÉDIA DE GOLS'] = dataframe['GP'] / dataframe['J']\n",
        "```\n",
        "\n"
      ]
    },
    {
      "cell_type": "code",
      "metadata": {
        "id": "0_OBEBsl2p9g"
      },
      "source": [
        "# Criando uma nova coluna no dataframe\n",
        "dataframe['MÉDIA DE GOLS'] = dataframe['GP'] / dataframe['J']"
      ],
      "execution_count": null,
      "outputs": []
    },
    {
      "cell_type": "markdown",
      "metadata": {
        "id": "tULy1eRF4WX2"
      },
      "source": [
        "Basta atribuir um valor a uma variável inexistente em nossa base dados. Neste caso, a coluna criada se chama **MÉDIA DE GOLS** e atribuimos a ela o resultado da divisão entre gols marcados e jogos realizados."
      ]
    },
    {
      "cell_type": "markdown",
      "metadata": {
        "id": "FYirB5cbQ3P4"
      },
      "source": [
        "\n",
        "\n",
        "```\n",
        "# Visualizando os novos dados\n",
        "dataframe.head()\n",
        "```\n",
        "\n"
      ]
    },
    {
      "cell_type": "code",
      "metadata": {
        "id": "dR5PlDO23NF3",
        "outputId": "b51c3f64-8d5a-437c-96d4-9895143ad923",
        "colab": {
          "base_uri": "https://localhost:8080/",
          "height": 204
        }
      },
      "source": [
        "# Visualizando os novos dados\n",
        "dataframe.head()"
      ],
      "execution_count": null,
      "outputs": [
        {
          "output_type": "execute_result",
          "data": {
            "text/html": [
              "<div>\n",
              "<style scoped>\n",
              "    .dataframe tbody tr th:only-of-type {\n",
              "        vertical-align: middle;\n",
              "    }\n",
              "\n",
              "    .dataframe tbody tr th {\n",
              "        vertical-align: top;\n",
              "    }\n",
              "\n",
              "    .dataframe thead th {\n",
              "        text-align: right;\n",
              "    }\n",
              "</style>\n",
              "<table border=\"1\" class=\"dataframe\">\n",
              "  <thead>\n",
              "    <tr style=\"text-align: right;\">\n",
              "      <th></th>\n",
              "      <th>CLASSIFICAÇÃO</th>\n",
              "      <th>CLUBE</th>\n",
              "      <th>P</th>\n",
              "      <th>J</th>\n",
              "      <th>V</th>\n",
              "      <th>E</th>\n",
              "      <th>D</th>\n",
              "      <th>GP</th>\n",
              "      <th>GC</th>\n",
              "      <th>SG</th>\n",
              "      <th>%</th>\n",
              "      <th>MÉDIA DE GOLS</th>\n",
              "    </tr>\n",
              "  </thead>\n",
              "  <tbody>\n",
              "    <tr>\n",
              "      <th>0</th>\n",
              "      <td>1</td>\n",
              "      <td>Atlético-MG</td>\n",
              "      <td>24</td>\n",
              "      <td>11</td>\n",
              "      <td>8</td>\n",
              "      <td>0</td>\n",
              "      <td>3</td>\n",
              "      <td>21</td>\n",
              "      <td>13</td>\n",
              "      <td>8</td>\n",
              "      <td>72.7</td>\n",
              "      <td>1.909091</td>\n",
              "    </tr>\n",
              "    <tr>\n",
              "      <th>1</th>\n",
              "      <td>2</td>\n",
              "      <td>Internacional</td>\n",
              "      <td>21</td>\n",
              "      <td>12</td>\n",
              "      <td>6</td>\n",
              "      <td>3</td>\n",
              "      <td>3</td>\n",
              "      <td>16</td>\n",
              "      <td>8</td>\n",
              "      <td>8</td>\n",
              "      <td>58.3</td>\n",
              "      <td>1.333333</td>\n",
              "    </tr>\n",
              "    <tr>\n",
              "      <th>2</th>\n",
              "      <td>3</td>\n",
              "      <td>São Paulo</td>\n",
              "      <td>19</td>\n",
              "      <td>11</td>\n",
              "      <td>5</td>\n",
              "      <td>4</td>\n",
              "      <td>2</td>\n",
              "      <td>14</td>\n",
              "      <td>12</td>\n",
              "      <td>2</td>\n",
              "      <td>57.6</td>\n",
              "      <td>1.272727</td>\n",
              "    </tr>\n",
              "    <tr>\n",
              "      <th>3</th>\n",
              "      <td>4</td>\n",
              "      <td>Palmeiras</td>\n",
              "      <td>19</td>\n",
              "      <td>11</td>\n",
              "      <td>4</td>\n",
              "      <td>7</td>\n",
              "      <td>0</td>\n",
              "      <td>15</td>\n",
              "      <td>10</td>\n",
              "      <td>5</td>\n",
              "      <td>57.6</td>\n",
              "      <td>1.363636</td>\n",
              "    </tr>\n",
              "    <tr>\n",
              "      <th>4</th>\n",
              "      <td>5</td>\n",
              "      <td>Vasco</td>\n",
              "      <td>18</td>\n",
              "      <td>11</td>\n",
              "      <td>5</td>\n",
              "      <td>3</td>\n",
              "      <td>3</td>\n",
              "      <td>16</td>\n",
              "      <td>11</td>\n",
              "      <td>5</td>\n",
              "      <td>54.5</td>\n",
              "      <td>1.454545</td>\n",
              "    </tr>\n",
              "  </tbody>\n",
              "</table>\n",
              "</div>"
            ],
            "text/plain": [
              "   CLASSIFICAÇÃO          CLUBE   P   J  V  ...  GP  GC  SG     %  MÉDIA DE GOLS\n",
              "0              1    Atlético-MG  24  11  8  ...  21  13   8  72.7       1.909091\n",
              "1              2  Internacional  21  12  6  ...  16   8   8  58.3       1.333333\n",
              "2              3      São Paulo  19  11  5  ...  14  12   2  57.6       1.272727\n",
              "3              4      Palmeiras  19  11  4  ...  15  10   5  57.6       1.363636\n",
              "4              5          Vasco  18  11  5  ...  16  11   5  54.5       1.454545\n",
              "\n",
              "[5 rows x 12 columns]"
            ]
          },
          "metadata": {
            "tags": []
          },
          "execution_count": 67
        }
      ]
    },
    {
      "cell_type": "markdown",
      "metadata": {
        "id": "NHPNYbwxoSmE"
      },
      "source": [
        "**Filtrando os dados**"
      ]
    },
    {
      "cell_type": "markdown",
      "metadata": {
        "id": "FwzqVbci3RJB"
      },
      "source": [
        "Pode ser interessante filtrar os dados para analisarmos um conjunto específico de dados. No Pandas temos pelo menos dez formas de realizar filtros em DataFrame. Demonstraremos algumas formas diferentes de fazer isso!."
      ]
    },
    {
      "cell_type": "markdown",
      "metadata": {
        "id": "4lL2K2-5L8hg"
      },
      "source": [
        "Seleção de valores de um DataFrame onde uma condição booleana é atendida."
      ]
    },
    {
      "cell_type": "markdown",
      "metadata": {
        "id": "53baXd9LRPqG"
      },
      "source": [
        "\n",
        "\n",
        "```\n",
        "# Filtrando os cinco primeiros colocados\n",
        "dataframe[dataframe['CLASSIFICAÇÃO'] <= 5]\n",
        "```\n",
        "\n"
      ]
    },
    {
      "cell_type": "code",
      "metadata": {
        "id": "UcPYm5u09Y8x",
        "outputId": "c481590e-d4c3-435a-9c0b-b835366d0513",
        "colab": {
          "base_uri": "https://localhost:8080/",
          "height": 204
        }
      },
      "source": [
        "# Filtrando os cinco primeiros colocados\n",
        "dataframe[dataframe['CLASSIFICAÇÃO'] <= 5]"
      ],
      "execution_count": null,
      "outputs": [
        {
          "output_type": "execute_result",
          "data": {
            "text/html": [
              "<div>\n",
              "<style scoped>\n",
              "    .dataframe tbody tr th:only-of-type {\n",
              "        vertical-align: middle;\n",
              "    }\n",
              "\n",
              "    .dataframe tbody tr th {\n",
              "        vertical-align: top;\n",
              "    }\n",
              "\n",
              "    .dataframe thead th {\n",
              "        text-align: right;\n",
              "    }\n",
              "</style>\n",
              "<table border=\"1\" class=\"dataframe\">\n",
              "  <thead>\n",
              "    <tr style=\"text-align: right;\">\n",
              "      <th></th>\n",
              "      <th>CLASSIFICAÇÃO</th>\n",
              "      <th>CLUBE</th>\n",
              "      <th>P</th>\n",
              "      <th>J</th>\n",
              "      <th>V</th>\n",
              "      <th>E</th>\n",
              "      <th>D</th>\n",
              "      <th>GP</th>\n",
              "      <th>GC</th>\n",
              "      <th>SG</th>\n",
              "      <th>%</th>\n",
              "      <th>MÉDIA DE GOLS</th>\n",
              "    </tr>\n",
              "  </thead>\n",
              "  <tbody>\n",
              "    <tr>\n",
              "      <th>0</th>\n",
              "      <td>1</td>\n",
              "      <td>Atlético-MG</td>\n",
              "      <td>24</td>\n",
              "      <td>11</td>\n",
              "      <td>8</td>\n",
              "      <td>0</td>\n",
              "      <td>3</td>\n",
              "      <td>21</td>\n",
              "      <td>13</td>\n",
              "      <td>8</td>\n",
              "      <td>72.7</td>\n",
              "      <td>1.909091</td>\n",
              "    </tr>\n",
              "    <tr>\n",
              "      <th>1</th>\n",
              "      <td>2</td>\n",
              "      <td>Internacional</td>\n",
              "      <td>21</td>\n",
              "      <td>12</td>\n",
              "      <td>6</td>\n",
              "      <td>3</td>\n",
              "      <td>3</td>\n",
              "      <td>16</td>\n",
              "      <td>8</td>\n",
              "      <td>8</td>\n",
              "      <td>58.3</td>\n",
              "      <td>1.333333</td>\n",
              "    </tr>\n",
              "    <tr>\n",
              "      <th>2</th>\n",
              "      <td>3</td>\n",
              "      <td>São Paulo</td>\n",
              "      <td>19</td>\n",
              "      <td>11</td>\n",
              "      <td>5</td>\n",
              "      <td>4</td>\n",
              "      <td>2</td>\n",
              "      <td>14</td>\n",
              "      <td>12</td>\n",
              "      <td>2</td>\n",
              "      <td>57.6</td>\n",
              "      <td>1.272727</td>\n",
              "    </tr>\n",
              "    <tr>\n",
              "      <th>3</th>\n",
              "      <td>4</td>\n",
              "      <td>Palmeiras</td>\n",
              "      <td>19</td>\n",
              "      <td>11</td>\n",
              "      <td>4</td>\n",
              "      <td>7</td>\n",
              "      <td>0</td>\n",
              "      <td>15</td>\n",
              "      <td>10</td>\n",
              "      <td>5</td>\n",
              "      <td>57.6</td>\n",
              "      <td>1.363636</td>\n",
              "    </tr>\n",
              "    <tr>\n",
              "      <th>4</th>\n",
              "      <td>5</td>\n",
              "      <td>Vasco</td>\n",
              "      <td>18</td>\n",
              "      <td>11</td>\n",
              "      <td>5</td>\n",
              "      <td>3</td>\n",
              "      <td>3</td>\n",
              "      <td>16</td>\n",
              "      <td>11</td>\n",
              "      <td>5</td>\n",
              "      <td>54.5</td>\n",
              "      <td>1.454545</td>\n",
              "    </tr>\n",
              "  </tbody>\n",
              "</table>\n",
              "</div>"
            ],
            "text/plain": [
              "   CLASSIFICAÇÃO          CLUBE   P   J  V  ...  GP  GC  SG     %  MÉDIA DE GOLS\n",
              "0              1    Atlético-MG  24  11  8  ...  21  13   8  72.7       1.909091\n",
              "1              2  Internacional  21  12  6  ...  16   8   8  58.3       1.333333\n",
              "2              3      São Paulo  19  11  5  ...  14  12   2  57.6       1.272727\n",
              "3              4      Palmeiras  19  11  4  ...  15  10   5  57.6       1.363636\n",
              "4              5          Vasco  18  11  5  ...  16  11   5  54.5       1.454545\n",
              "\n",
              "[5 rows x 12 columns]"
            ]
          },
          "metadata": {
            "tags": []
          },
          "execution_count": 68
        }
      ]
    },
    {
      "cell_type": "markdown",
      "metadata": {
        "id": "aLdVmDkCMPS8"
      },
      "source": [
        "Seleção de valores através do fatiamento das linhas do DataFrame."
      ]
    },
    {
      "cell_type": "markdown",
      "metadata": {
        "id": "D9T9XZKmRiJs"
      },
      "source": [
        "\n",
        "\n",
        "```\n",
        "# Considerando que os dados estão ordenados pelo campo CLASSIFICAÇÃO, vamos filtrar o meio da tabela.\n",
        "# Caso não esteja, podemos ordená-los, antes de realizar o filtro para alcançar o mesmo resultado.\n",
        "dataframe.sort_values(by=\"CLASSIFICAÇÃO\", ascending=True)\n",
        "dataframe[5:16]\n",
        "```\n",
        "\n"
      ]
    },
    {
      "cell_type": "code",
      "metadata": {
        "id": "ZnqQOPg89ezk",
        "outputId": "54237cf8-017c-4b11-a309-9c3d0f5a9f07",
        "colab": {
          "base_uri": "https://localhost:8080/",
          "height": 390
        }
      },
      "source": [
        "# Considerando que os dados estão ordenados pelo campo CLASSIFICAÇÃO, vamos filtrar o meio da tabela.\n",
        "# Caso não esteja, podemos ordená-los, antes de realizar o filtro para alcançar o mesmo resultado.\n",
        "dataframe.sort_values(by=\"CLASSIFICAÇÃO\", ascending=True)\n",
        "dataframe[5:16]\n"
      ],
      "execution_count": null,
      "outputs": [
        {
          "output_type": "execute_result",
          "data": {
            "text/html": [
              "<div>\n",
              "<style scoped>\n",
              "    .dataframe tbody tr th:only-of-type {\n",
              "        vertical-align: middle;\n",
              "    }\n",
              "\n",
              "    .dataframe tbody tr th {\n",
              "        vertical-align: top;\n",
              "    }\n",
              "\n",
              "    .dataframe thead th {\n",
              "        text-align: right;\n",
              "    }\n",
              "</style>\n",
              "<table border=\"1\" class=\"dataframe\">\n",
              "  <thead>\n",
              "    <tr style=\"text-align: right;\">\n",
              "      <th></th>\n",
              "      <th>CLASSIFICAÇÃO</th>\n",
              "      <th>CLUBE</th>\n",
              "      <th>P</th>\n",
              "      <th>J</th>\n",
              "      <th>V</th>\n",
              "      <th>E</th>\n",
              "      <th>D</th>\n",
              "      <th>GP</th>\n",
              "      <th>GC</th>\n",
              "      <th>SG</th>\n",
              "      <th>%</th>\n",
              "      <th>MÉDIA DE GOLS</th>\n",
              "    </tr>\n",
              "  </thead>\n",
              "  <tbody>\n",
              "    <tr>\n",
              "      <th>5</th>\n",
              "      <td>6</td>\n",
              "      <td>Flamengo</td>\n",
              "      <td>18</td>\n",
              "      <td>11</td>\n",
              "      <td>5</td>\n",
              "      <td>3</td>\n",
              "      <td>3</td>\n",
              "      <td>14</td>\n",
              "      <td>14</td>\n",
              "      <td>0</td>\n",
              "      <td>54.5</td>\n",
              "      <td>1.272727</td>\n",
              "    </tr>\n",
              "    <tr>\n",
              "      <th>6</th>\n",
              "      <td>7</td>\n",
              "      <td>Sport</td>\n",
              "      <td>17</td>\n",
              "      <td>12</td>\n",
              "      <td>5</td>\n",
              "      <td>2</td>\n",
              "      <td>5</td>\n",
              "      <td>12</td>\n",
              "      <td>13</td>\n",
              "      <td>-1</td>\n",
              "      <td>47.2</td>\n",
              "      <td>1.000000</td>\n",
              "    </tr>\n",
              "    <tr>\n",
              "      <th>7</th>\n",
              "      <td>8</td>\n",
              "      <td>Santos</td>\n",
              "      <td>17</td>\n",
              "      <td>12</td>\n",
              "      <td>4</td>\n",
              "      <td>5</td>\n",
              "      <td>3</td>\n",
              "      <td>15</td>\n",
              "      <td>13</td>\n",
              "      <td>2</td>\n",
              "      <td>47.2</td>\n",
              "      <td>1.250000</td>\n",
              "    </tr>\n",
              "    <tr>\n",
              "      <th>8</th>\n",
              "      <td>9</td>\n",
              "      <td>Fortaleza</td>\n",
              "      <td>16</td>\n",
              "      <td>12</td>\n",
              "      <td>4</td>\n",
              "      <td>4</td>\n",
              "      <td>4</td>\n",
              "      <td>12</td>\n",
              "      <td>10</td>\n",
              "      <td>2</td>\n",
              "      <td>44.4</td>\n",
              "      <td>1.000000</td>\n",
              "    </tr>\n",
              "    <tr>\n",
              "      <th>9</th>\n",
              "      <td>10</td>\n",
              "      <td>Athletico-PR</td>\n",
              "      <td>14</td>\n",
              "      <td>11</td>\n",
              "      <td>4</td>\n",
              "      <td>2</td>\n",
              "      <td>5</td>\n",
              "      <td>9</td>\n",
              "      <td>10</td>\n",
              "      <td>-1</td>\n",
              "      <td>42.4</td>\n",
              "      <td>0.818182</td>\n",
              "    </tr>\n",
              "    <tr>\n",
              "      <th>10</th>\n",
              "      <td>11</td>\n",
              "      <td>Fluminense</td>\n",
              "      <td>14</td>\n",
              "      <td>11</td>\n",
              "      <td>4</td>\n",
              "      <td>2</td>\n",
              "      <td>5</td>\n",
              "      <td>12</td>\n",
              "      <td>14</td>\n",
              "      <td>-2</td>\n",
              "      <td>42.4</td>\n",
              "      <td>1.090909</td>\n",
              "    </tr>\n",
              "    <tr>\n",
              "      <th>11</th>\n",
              "      <td>12</td>\n",
              "      <td>Ceará</td>\n",
              "      <td>14</td>\n",
              "      <td>12</td>\n",
              "      <td>4</td>\n",
              "      <td>2</td>\n",
              "      <td>6</td>\n",
              "      <td>14</td>\n",
              "      <td>18</td>\n",
              "      <td>-4</td>\n",
              "      <td>38.9</td>\n",
              "      <td>1.166667</td>\n",
              "    </tr>\n",
              "    <tr>\n",
              "      <th>12</th>\n",
              "      <td>13</td>\n",
              "      <td>Atlético-GO</td>\n",
              "      <td>13</td>\n",
              "      <td>11</td>\n",
              "      <td>3</td>\n",
              "      <td>4</td>\n",
              "      <td>4</td>\n",
              "      <td>13</td>\n",
              "      <td>16</td>\n",
              "      <td>-3</td>\n",
              "      <td>39.4</td>\n",
              "      <td>1.181818</td>\n",
              "    </tr>\n",
              "    <tr>\n",
              "      <th>13</th>\n",
              "      <td>14</td>\n",
              "      <td>Grêmio</td>\n",
              "      <td>13</td>\n",
              "      <td>11</td>\n",
              "      <td>2</td>\n",
              "      <td>7</td>\n",
              "      <td>2</td>\n",
              "      <td>10</td>\n",
              "      <td>10</td>\n",
              "      <td>0</td>\n",
              "      <td>39.4</td>\n",
              "      <td>0.909091</td>\n",
              "    </tr>\n",
              "    <tr>\n",
              "      <th>14</th>\n",
              "      <td>15</td>\n",
              "      <td>Corinthians</td>\n",
              "      <td>12</td>\n",
              "      <td>11</td>\n",
              "      <td>3</td>\n",
              "      <td>3</td>\n",
              "      <td>5</td>\n",
              "      <td>15</td>\n",
              "      <td>17</td>\n",
              "      <td>-2</td>\n",
              "      <td>36.4</td>\n",
              "      <td>1.363636</td>\n",
              "    </tr>\n",
              "    <tr>\n",
              "      <th>15</th>\n",
              "      <td>16</td>\n",
              "      <td>Coritiba</td>\n",
              "      <td>11</td>\n",
              "      <td>11</td>\n",
              "      <td>3</td>\n",
              "      <td>2</td>\n",
              "      <td>6</td>\n",
              "      <td>8</td>\n",
              "      <td>12</td>\n",
              "      <td>-4</td>\n",
              "      <td>33.3</td>\n",
              "      <td>0.727273</td>\n",
              "    </tr>\n",
              "  </tbody>\n",
              "</table>\n",
              "</div>"
            ],
            "text/plain": [
              "    CLASSIFICAÇÃO         CLUBE   P   J  V  ...  GP  GC  SG     %  MÉDIA DE GOLS\n",
              "5               6      Flamengo  18  11  5  ...  14  14   0  54.5       1.272727\n",
              "6               7         Sport  17  12  5  ...  12  13  -1  47.2       1.000000\n",
              "7               8        Santos  17  12  4  ...  15  13   2  47.2       1.250000\n",
              "8               9     Fortaleza  16  12  4  ...  12  10   2  44.4       1.000000\n",
              "9              10  Athletico-PR  14  11  4  ...   9  10  -1  42.4       0.818182\n",
              "10             11    Fluminense  14  11  4  ...  12  14  -2  42.4       1.090909\n",
              "11             12         Ceará  14  12  4  ...  14  18  -4  38.9       1.166667\n",
              "12             13   Atlético-GO  13  11  3  ...  13  16  -3  39.4       1.181818\n",
              "13             14        Grêmio  13  11  2  ...  10  10   0  39.4       0.909091\n",
              "14             15   Corinthians  12  11  3  ...  15  17  -2  36.4       1.363636\n",
              "15             16      Coritiba  11  11  3  ...   8  12  -4  33.3       0.727273\n",
              "\n",
              "[11 rows x 12 columns]"
            ]
          },
          "metadata": {
            "tags": []
          },
          "execution_count": 69
        }
      ]
    },
    {
      "cell_type": "markdown",
      "metadata": {
        "id": "K-pR0R0NNkHr"
      },
      "source": [
        "Seleção por meio da função loc (local), passando uma condição booleana a ser atendida."
      ]
    },
    {
      "cell_type": "markdown",
      "metadata": {
        "id": "_KVrcsisR91R"
      },
      "source": [
        "\n",
        "\n",
        "```\n",
        "# Filtrando os útlimos colocados\n",
        "dataframe.loc[dataframe['CLASSIFICAÇÃO'] >= 17]\n",
        "```\n",
        "\n"
      ]
    },
    {
      "cell_type": "code",
      "metadata": {
        "id": "Rcmb5zKUHOrB",
        "outputId": "69c91c9d-947e-43da-edec-26d382cd9485",
        "colab": {
          "base_uri": "https://localhost:8080/",
          "height": 173
        }
      },
      "source": [
        "# Filtrando os útlimos colocados\n",
        "dataframe.loc[dataframe['CLASSIFICAÇÃO'] >= 17]"
      ],
      "execution_count": null,
      "outputs": [
        {
          "output_type": "execute_result",
          "data": {
            "text/html": [
              "<div>\n",
              "<style scoped>\n",
              "    .dataframe tbody tr th:only-of-type {\n",
              "        vertical-align: middle;\n",
              "    }\n",
              "\n",
              "    .dataframe tbody tr th {\n",
              "        vertical-align: top;\n",
              "    }\n",
              "\n",
              "    .dataframe thead th {\n",
              "        text-align: right;\n",
              "    }\n",
              "</style>\n",
              "<table border=\"1\" class=\"dataframe\">\n",
              "  <thead>\n",
              "    <tr style=\"text-align: right;\">\n",
              "      <th></th>\n",
              "      <th>CLASSIFICAÇÃO</th>\n",
              "      <th>CLUBE</th>\n",
              "      <th>P</th>\n",
              "      <th>J</th>\n",
              "      <th>V</th>\n",
              "      <th>E</th>\n",
              "      <th>D</th>\n",
              "      <th>GP</th>\n",
              "      <th>GC</th>\n",
              "      <th>SG</th>\n",
              "      <th>%</th>\n",
              "      <th>MÉDIA DE GOLS</th>\n",
              "    </tr>\n",
              "  </thead>\n",
              "  <tbody>\n",
              "    <tr>\n",
              "      <th>16</th>\n",
              "      <td>17</td>\n",
              "      <td>Bragantino</td>\n",
              "      <td>11</td>\n",
              "      <td>12</td>\n",
              "      <td>2</td>\n",
              "      <td>5</td>\n",
              "      <td>5</td>\n",
              "      <td>15</td>\n",
              "      <td>19</td>\n",
              "      <td>-4</td>\n",
              "      <td>30.6</td>\n",
              "      <td>1.250000</td>\n",
              "    </tr>\n",
              "    <tr>\n",
              "      <th>17</th>\n",
              "      <td>18</td>\n",
              "      <td>Botafogo</td>\n",
              "      <td>11</td>\n",
              "      <td>11</td>\n",
              "      <td>1</td>\n",
              "      <td>8</td>\n",
              "      <td>2</td>\n",
              "      <td>10</td>\n",
              "      <td>12</td>\n",
              "      <td>-2</td>\n",
              "      <td>33.3</td>\n",
              "      <td>0.909091</td>\n",
              "    </tr>\n",
              "    <tr>\n",
              "      <th>18</th>\n",
              "      <td>19</td>\n",
              "      <td>Goiás</td>\n",
              "      <td>9</td>\n",
              "      <td>9</td>\n",
              "      <td>2</td>\n",
              "      <td>3</td>\n",
              "      <td>4</td>\n",
              "      <td>13</td>\n",
              "      <td>15</td>\n",
              "      <td>-2</td>\n",
              "      <td>33.3</td>\n",
              "      <td>1.444444</td>\n",
              "    </tr>\n",
              "    <tr>\n",
              "      <th>19</th>\n",
              "      <td>20</td>\n",
              "      <td>Bahia</td>\n",
              "      <td>9</td>\n",
              "      <td>11</td>\n",
              "      <td>2</td>\n",
              "      <td>3</td>\n",
              "      <td>6</td>\n",
              "      <td>12</td>\n",
              "      <td>19</td>\n",
              "      <td>-7</td>\n",
              "      <td>27.3</td>\n",
              "      <td>1.090909</td>\n",
              "    </tr>\n",
              "  </tbody>\n",
              "</table>\n",
              "</div>"
            ],
            "text/plain": [
              "    CLASSIFICAÇÃO       CLUBE   P   J  V  E  D  GP  GC  SG     %  MÉDIA DE GOLS\n",
              "16             17  Bragantino  11  12  2  5  5  15  19  -4  30.6       1.250000\n",
              "17             18    Botafogo  11  11  1  8  2  10  12  -2  33.3       0.909091\n",
              "18             19       Goiás   9   9  2  3  4  13  15  -2  33.3       1.444444\n",
              "19             20       Bahia   9  11  2  3  6  12  19  -7  27.3       1.090909"
            ]
          },
          "metadata": {
            "tags": []
          },
          "execution_count": 70
        }
      ]
    },
    {
      "cell_type": "markdown",
      "metadata": {
        "id": "X1ARv_SjROon"
      },
      "source": [
        "**Classificando os dados**"
      ]
    },
    {
      "cell_type": "markdown",
      "metadata": {
        "id": "W7NlHw_yPoXE"
      },
      "source": [
        "Agora que já sabemos como filtrar os dados, podemos criar uma coluna para classificá-los.\n",
        "Vamos criar uma coluna chamada **ZONA DE CLASSIFICAÇÃO** e atribuir a ela um preenchimento condicional."
      ]
    },
    {
      "cell_type": "markdown",
      "metadata": {
        "id": "cczQfSWUSUO9"
      },
      "source": [
        "\n",
        "\n",
        "```\n",
        "# Criando a coluna ZONA DE CLASSIFICAÇÃO\n",
        "dataframe['ZONA DE CLASSIFICAÇÃO'] = ''\n",
        "```\n",
        "\n"
      ]
    },
    {
      "cell_type": "code",
      "metadata": {
        "id": "WolMw5sWRbOB"
      },
      "source": [
        "# Criando a coluna ZONA DE CLASSIFICAÇÃO\n",
        "dataframe['ZONA DE CLASSIFICAÇÃO'] = ''"
      ],
      "execution_count": null,
      "outputs": []
    },
    {
      "cell_type": "markdown",
      "metadata": {
        "id": "xCsNBCIjUp4D"
      },
      "source": [
        "O comando abaixo atribui o valor informado para o campo ZONA DE CLASSIFICAÇÃO a todos os registros do DataFrame que atenderem a condição booleana informada."
      ]
    },
    {
      "cell_type": "markdown",
      "metadata": {
        "id": "U23QyiS4Sgvk"
      },
      "source": [
        "\n",
        "\n",
        "```\n",
        "# Preenchendo os valores dos seis primeiros colocados\n",
        "dataframe.loc[dataframe['CLASSIFICAÇÃO'] <= 6, 'ZONA DE CLASSIFICAÇÃO'] = 'Libertadores'\n",
        "```\n",
        "\n"
      ]
    },
    {
      "cell_type": "code",
      "metadata": {
        "id": "_Vpuggt1TQ7o"
      },
      "source": [
        "# Preenchendo os valores dos seis primeiros colocados\n",
        "dataframe.loc[dataframe['CLASSIFICAÇÃO'] <= 6, 'ZONA DE CLASSIFICAÇÃO'] = 'Libertadores'"
      ],
      "execution_count": null,
      "outputs": []
    },
    {
      "cell_type": "markdown",
      "metadata": {
        "id": "EJNdIQ0lSoPP"
      },
      "source": [
        "\n",
        "\n",
        "```\n",
        "# Visualizando novos valores\n",
        "dataframe.head(6)\n",
        "```\n",
        "\n"
      ]
    },
    {
      "cell_type": "code",
      "metadata": {
        "id": "ygrK6FatUbzJ",
        "outputId": "03e5c837-eb84-4ced-ed40-2874fd5d6bfa",
        "colab": {
          "base_uri": "https://localhost:8080/",
          "height": 235
        }
      },
      "source": [
        "# Visualizando novos valores\n",
        "dataframe.head(6)"
      ],
      "execution_count": null,
      "outputs": [
        {
          "output_type": "execute_result",
          "data": {
            "text/html": [
              "<div>\n",
              "<style scoped>\n",
              "    .dataframe tbody tr th:only-of-type {\n",
              "        vertical-align: middle;\n",
              "    }\n",
              "\n",
              "    .dataframe tbody tr th {\n",
              "        vertical-align: top;\n",
              "    }\n",
              "\n",
              "    .dataframe thead th {\n",
              "        text-align: right;\n",
              "    }\n",
              "</style>\n",
              "<table border=\"1\" class=\"dataframe\">\n",
              "  <thead>\n",
              "    <tr style=\"text-align: right;\">\n",
              "      <th></th>\n",
              "      <th>CLASSIFICAÇÃO</th>\n",
              "      <th>CLUBE</th>\n",
              "      <th>P</th>\n",
              "      <th>J</th>\n",
              "      <th>V</th>\n",
              "      <th>E</th>\n",
              "      <th>D</th>\n",
              "      <th>GP</th>\n",
              "      <th>GC</th>\n",
              "      <th>SG</th>\n",
              "      <th>%</th>\n",
              "      <th>MÉDIA DE GOLS</th>\n",
              "      <th>ZONA DE CLASSIFICAÇÃO</th>\n",
              "    </tr>\n",
              "  </thead>\n",
              "  <tbody>\n",
              "    <tr>\n",
              "      <th>0</th>\n",
              "      <td>1</td>\n",
              "      <td>Atlético-MG</td>\n",
              "      <td>24</td>\n",
              "      <td>11</td>\n",
              "      <td>8</td>\n",
              "      <td>0</td>\n",
              "      <td>3</td>\n",
              "      <td>21</td>\n",
              "      <td>13</td>\n",
              "      <td>8</td>\n",
              "      <td>72.7</td>\n",
              "      <td>1.909091</td>\n",
              "      <td>Libertadores</td>\n",
              "    </tr>\n",
              "    <tr>\n",
              "      <th>1</th>\n",
              "      <td>2</td>\n",
              "      <td>Internacional</td>\n",
              "      <td>21</td>\n",
              "      <td>12</td>\n",
              "      <td>6</td>\n",
              "      <td>3</td>\n",
              "      <td>3</td>\n",
              "      <td>16</td>\n",
              "      <td>8</td>\n",
              "      <td>8</td>\n",
              "      <td>58.3</td>\n",
              "      <td>1.333333</td>\n",
              "      <td>Libertadores</td>\n",
              "    </tr>\n",
              "    <tr>\n",
              "      <th>2</th>\n",
              "      <td>3</td>\n",
              "      <td>São Paulo</td>\n",
              "      <td>19</td>\n",
              "      <td>11</td>\n",
              "      <td>5</td>\n",
              "      <td>4</td>\n",
              "      <td>2</td>\n",
              "      <td>14</td>\n",
              "      <td>12</td>\n",
              "      <td>2</td>\n",
              "      <td>57.6</td>\n",
              "      <td>1.272727</td>\n",
              "      <td>Libertadores</td>\n",
              "    </tr>\n",
              "    <tr>\n",
              "      <th>3</th>\n",
              "      <td>4</td>\n",
              "      <td>Palmeiras</td>\n",
              "      <td>19</td>\n",
              "      <td>11</td>\n",
              "      <td>4</td>\n",
              "      <td>7</td>\n",
              "      <td>0</td>\n",
              "      <td>15</td>\n",
              "      <td>10</td>\n",
              "      <td>5</td>\n",
              "      <td>57.6</td>\n",
              "      <td>1.363636</td>\n",
              "      <td>Libertadores</td>\n",
              "    </tr>\n",
              "    <tr>\n",
              "      <th>4</th>\n",
              "      <td>5</td>\n",
              "      <td>Vasco</td>\n",
              "      <td>18</td>\n",
              "      <td>11</td>\n",
              "      <td>5</td>\n",
              "      <td>3</td>\n",
              "      <td>3</td>\n",
              "      <td>16</td>\n",
              "      <td>11</td>\n",
              "      <td>5</td>\n",
              "      <td>54.5</td>\n",
              "      <td>1.454545</td>\n",
              "      <td>Libertadores</td>\n",
              "    </tr>\n",
              "    <tr>\n",
              "      <th>5</th>\n",
              "      <td>6</td>\n",
              "      <td>Flamengo</td>\n",
              "      <td>18</td>\n",
              "      <td>11</td>\n",
              "      <td>5</td>\n",
              "      <td>3</td>\n",
              "      <td>3</td>\n",
              "      <td>14</td>\n",
              "      <td>14</td>\n",
              "      <td>0</td>\n",
              "      <td>54.5</td>\n",
              "      <td>1.272727</td>\n",
              "      <td>Libertadores</td>\n",
              "    </tr>\n",
              "  </tbody>\n",
              "</table>\n",
              "</div>"
            ],
            "text/plain": [
              "   CLASSIFICAÇÃO          CLUBE   P  ...     %  MÉDIA DE GOLS  ZONA DE CLASSIFICAÇÃO\n",
              "0              1    Atlético-MG  24  ...  72.7       1.909091           Libertadores\n",
              "1              2  Internacional  21  ...  58.3       1.333333           Libertadores\n",
              "2              3      São Paulo  19  ...  57.6       1.272727           Libertadores\n",
              "3              4      Palmeiras  19  ...  57.6       1.363636           Libertadores\n",
              "4              5          Vasco  18  ...  54.5       1.454545           Libertadores\n",
              "5              6       Flamengo  18  ...  54.5       1.272727           Libertadores\n",
              "\n",
              "[6 rows x 13 columns]"
            ]
          },
          "metadata": {
            "tags": []
          },
          "execution_count": 73
        }
      ]
    },
    {
      "cell_type": "markdown",
      "metadata": {
        "id": "S7dsfl1vS5UX"
      },
      "source": [
        "\n",
        "\n",
        "```\n",
        "# Preenchendo os valores dos quatro últimos colocados\n",
        "dataframe.loc[dataframe['CLASSIFICAÇÃO'] >=17, 'ZONA DE CLASSIFICAÇÃO'] = 'Rebaixados'\n",
        "```\n",
        "\n"
      ]
    },
    {
      "cell_type": "code",
      "metadata": {
        "id": "BybZE4OOU-Jf"
      },
      "source": [
        "# Preenchendo os valores dos quatro últimos colocados\n",
        "dataframe.loc[dataframe['CLASSIFICAÇÃO'] >=17, 'ZONA DE CLASSIFICAÇÃO'] = 'Rebaixados'"
      ],
      "execution_count": null,
      "outputs": []
    },
    {
      "cell_type": "markdown",
      "metadata": {
        "id": "qTpclhfFTRaJ"
      },
      "source": [
        "\n",
        "\n",
        "```\n",
        "# Visualizando novos valores\n",
        "dataframe.tail(4)\n",
        "```\n",
        "\n"
      ]
    },
    {
      "cell_type": "code",
      "metadata": {
        "id": "e2ej5Hi5Yweu",
        "outputId": "e44f9aad-9dd2-4f4e-fcc6-1dafa196807b",
        "colab": {
          "base_uri": "https://localhost:8080/",
          "height": 173
        }
      },
      "source": [
        "# Visualizando novos valores\n",
        "dataframe.tail(4)"
      ],
      "execution_count": null,
      "outputs": [
        {
          "output_type": "execute_result",
          "data": {
            "text/html": [
              "<div>\n",
              "<style scoped>\n",
              "    .dataframe tbody tr th:only-of-type {\n",
              "        vertical-align: middle;\n",
              "    }\n",
              "\n",
              "    .dataframe tbody tr th {\n",
              "        vertical-align: top;\n",
              "    }\n",
              "\n",
              "    .dataframe thead th {\n",
              "        text-align: right;\n",
              "    }\n",
              "</style>\n",
              "<table border=\"1\" class=\"dataframe\">\n",
              "  <thead>\n",
              "    <tr style=\"text-align: right;\">\n",
              "      <th></th>\n",
              "      <th>CLASSIFICAÇÃO</th>\n",
              "      <th>CLUBE</th>\n",
              "      <th>P</th>\n",
              "      <th>J</th>\n",
              "      <th>V</th>\n",
              "      <th>E</th>\n",
              "      <th>D</th>\n",
              "      <th>GP</th>\n",
              "      <th>GC</th>\n",
              "      <th>SG</th>\n",
              "      <th>%</th>\n",
              "      <th>MÉDIA DE GOLS</th>\n",
              "      <th>ZONA DE CLASSIFICAÇÃO</th>\n",
              "    </tr>\n",
              "  </thead>\n",
              "  <tbody>\n",
              "    <tr>\n",
              "      <th>16</th>\n",
              "      <td>17</td>\n",
              "      <td>Bragantino</td>\n",
              "      <td>11</td>\n",
              "      <td>12</td>\n",
              "      <td>2</td>\n",
              "      <td>5</td>\n",
              "      <td>5</td>\n",
              "      <td>15</td>\n",
              "      <td>19</td>\n",
              "      <td>-4</td>\n",
              "      <td>30.6</td>\n",
              "      <td>1.250000</td>\n",
              "      <td>Rebaixados</td>\n",
              "    </tr>\n",
              "    <tr>\n",
              "      <th>17</th>\n",
              "      <td>18</td>\n",
              "      <td>Botafogo</td>\n",
              "      <td>11</td>\n",
              "      <td>11</td>\n",
              "      <td>1</td>\n",
              "      <td>8</td>\n",
              "      <td>2</td>\n",
              "      <td>10</td>\n",
              "      <td>12</td>\n",
              "      <td>-2</td>\n",
              "      <td>33.3</td>\n",
              "      <td>0.909091</td>\n",
              "      <td>Rebaixados</td>\n",
              "    </tr>\n",
              "    <tr>\n",
              "      <th>18</th>\n",
              "      <td>19</td>\n",
              "      <td>Goiás</td>\n",
              "      <td>9</td>\n",
              "      <td>9</td>\n",
              "      <td>2</td>\n",
              "      <td>3</td>\n",
              "      <td>4</td>\n",
              "      <td>13</td>\n",
              "      <td>15</td>\n",
              "      <td>-2</td>\n",
              "      <td>33.3</td>\n",
              "      <td>1.444444</td>\n",
              "      <td>Rebaixados</td>\n",
              "    </tr>\n",
              "    <tr>\n",
              "      <th>19</th>\n",
              "      <td>20</td>\n",
              "      <td>Bahia</td>\n",
              "      <td>9</td>\n",
              "      <td>11</td>\n",
              "      <td>2</td>\n",
              "      <td>3</td>\n",
              "      <td>6</td>\n",
              "      <td>12</td>\n",
              "      <td>19</td>\n",
              "      <td>-7</td>\n",
              "      <td>27.3</td>\n",
              "      <td>1.090909</td>\n",
              "      <td>Rebaixados</td>\n",
              "    </tr>\n",
              "  </tbody>\n",
              "</table>\n",
              "</div>"
            ],
            "text/plain": [
              "    CLASSIFICAÇÃO       CLUBE   P  ...     %  MÉDIA DE GOLS  ZONA DE CLASSIFICAÇÃO\n",
              "16             17  Bragantino  11  ...  30.6       1.250000             Rebaixados\n",
              "17             18    Botafogo  11  ...  33.3       0.909091             Rebaixados\n",
              "18             19       Goiás   9  ...  33.3       1.444444             Rebaixados\n",
              "19             20       Bahia   9  ...  27.3       1.090909             Rebaixados\n",
              "\n",
              "[4 rows x 13 columns]"
            ]
          },
          "metadata": {
            "tags": []
          },
          "execution_count": 75
        }
      ]
    },
    {
      "cell_type": "markdown",
      "metadata": {
        "id": "EFiUDt65TgNA"
      },
      "source": [
        "\n",
        "\n",
        "```\n",
        "# Preenchendo os valores dos dados intermediários do DataFrame\n",
        "dataframe.loc[(dataframe['CLASSIFICAÇÃO'] > 6) & (dataframe['CLASSIFICAÇÃO']<13), 'ZONA DE CLASSIFICAÇÃO'] = 'Copa Sulamericana'\n",
        "```\n",
        "\n"
      ]
    },
    {
      "cell_type": "code",
      "metadata": {
        "id": "vxtzMilkYzLh"
      },
      "source": [
        "# Preenchendo os valores dos dados intermediários do DataFrame\n",
        "dataframe.loc[(dataframe['CLASSIFICAÇÃO'] > 6) & (dataframe['CLASSIFICAÇÃO']<13), 'ZONA DE CLASSIFICAÇÃO'] = 'Copa Sulamericana'"
      ],
      "execution_count": null,
      "outputs": []
    },
    {
      "cell_type": "markdown",
      "metadata": {
        "id": "aOlqYNfyTl7M"
      },
      "source": [
        "\n",
        "\n",
        "```\n",
        "# Visualizando novos valores\n",
        "dataframe[6:12]\n",
        "```\n",
        "\n"
      ]
    },
    {
      "cell_type": "code",
      "metadata": {
        "id": "pq6hd_WNaTa8",
        "outputId": "5544da66-e85c-4dc7-8ebe-ec09469dcab5",
        "colab": {
          "base_uri": "https://localhost:8080/",
          "height": 235
        }
      },
      "source": [
        "# Visualizando novos valores\n",
        "dataframe[6:12]"
      ],
      "execution_count": null,
      "outputs": [
        {
          "output_type": "execute_result",
          "data": {
            "text/html": [
              "<div>\n",
              "<style scoped>\n",
              "    .dataframe tbody tr th:only-of-type {\n",
              "        vertical-align: middle;\n",
              "    }\n",
              "\n",
              "    .dataframe tbody tr th {\n",
              "        vertical-align: top;\n",
              "    }\n",
              "\n",
              "    .dataframe thead th {\n",
              "        text-align: right;\n",
              "    }\n",
              "</style>\n",
              "<table border=\"1\" class=\"dataframe\">\n",
              "  <thead>\n",
              "    <tr style=\"text-align: right;\">\n",
              "      <th></th>\n",
              "      <th>CLASSIFICAÇÃO</th>\n",
              "      <th>CLUBE</th>\n",
              "      <th>P</th>\n",
              "      <th>J</th>\n",
              "      <th>V</th>\n",
              "      <th>E</th>\n",
              "      <th>D</th>\n",
              "      <th>GP</th>\n",
              "      <th>GC</th>\n",
              "      <th>SG</th>\n",
              "      <th>%</th>\n",
              "      <th>MÉDIA DE GOLS</th>\n",
              "      <th>ZONA DE CLASSIFICAÇÃO</th>\n",
              "    </tr>\n",
              "  </thead>\n",
              "  <tbody>\n",
              "    <tr>\n",
              "      <th>6</th>\n",
              "      <td>7</td>\n",
              "      <td>Sport</td>\n",
              "      <td>17</td>\n",
              "      <td>12</td>\n",
              "      <td>5</td>\n",
              "      <td>2</td>\n",
              "      <td>5</td>\n",
              "      <td>12</td>\n",
              "      <td>13</td>\n",
              "      <td>-1</td>\n",
              "      <td>47.2</td>\n",
              "      <td>1.000000</td>\n",
              "      <td>Copa Sulamericana</td>\n",
              "    </tr>\n",
              "    <tr>\n",
              "      <th>7</th>\n",
              "      <td>8</td>\n",
              "      <td>Santos</td>\n",
              "      <td>17</td>\n",
              "      <td>12</td>\n",
              "      <td>4</td>\n",
              "      <td>5</td>\n",
              "      <td>3</td>\n",
              "      <td>15</td>\n",
              "      <td>13</td>\n",
              "      <td>2</td>\n",
              "      <td>47.2</td>\n",
              "      <td>1.250000</td>\n",
              "      <td>Copa Sulamericana</td>\n",
              "    </tr>\n",
              "    <tr>\n",
              "      <th>8</th>\n",
              "      <td>9</td>\n",
              "      <td>Fortaleza</td>\n",
              "      <td>16</td>\n",
              "      <td>12</td>\n",
              "      <td>4</td>\n",
              "      <td>4</td>\n",
              "      <td>4</td>\n",
              "      <td>12</td>\n",
              "      <td>10</td>\n",
              "      <td>2</td>\n",
              "      <td>44.4</td>\n",
              "      <td>1.000000</td>\n",
              "      <td>Copa Sulamericana</td>\n",
              "    </tr>\n",
              "    <tr>\n",
              "      <th>9</th>\n",
              "      <td>10</td>\n",
              "      <td>Athletico-PR</td>\n",
              "      <td>14</td>\n",
              "      <td>11</td>\n",
              "      <td>4</td>\n",
              "      <td>2</td>\n",
              "      <td>5</td>\n",
              "      <td>9</td>\n",
              "      <td>10</td>\n",
              "      <td>-1</td>\n",
              "      <td>42.4</td>\n",
              "      <td>0.818182</td>\n",
              "      <td>Copa Sulamericana</td>\n",
              "    </tr>\n",
              "    <tr>\n",
              "      <th>10</th>\n",
              "      <td>11</td>\n",
              "      <td>Fluminense</td>\n",
              "      <td>14</td>\n",
              "      <td>11</td>\n",
              "      <td>4</td>\n",
              "      <td>2</td>\n",
              "      <td>5</td>\n",
              "      <td>12</td>\n",
              "      <td>14</td>\n",
              "      <td>-2</td>\n",
              "      <td>42.4</td>\n",
              "      <td>1.090909</td>\n",
              "      <td>Copa Sulamericana</td>\n",
              "    </tr>\n",
              "    <tr>\n",
              "      <th>11</th>\n",
              "      <td>12</td>\n",
              "      <td>Ceará</td>\n",
              "      <td>14</td>\n",
              "      <td>12</td>\n",
              "      <td>4</td>\n",
              "      <td>2</td>\n",
              "      <td>6</td>\n",
              "      <td>14</td>\n",
              "      <td>18</td>\n",
              "      <td>-4</td>\n",
              "      <td>38.9</td>\n",
              "      <td>1.166667</td>\n",
              "      <td>Copa Sulamericana</td>\n",
              "    </tr>\n",
              "  </tbody>\n",
              "</table>\n",
              "</div>"
            ],
            "text/plain": [
              "    CLASSIFICAÇÃO         CLUBE   P  ...     %  MÉDIA DE GOLS  ZONA DE CLASSIFICAÇÃO\n",
              "6               7         Sport  17  ...  47.2       1.000000      Copa Sulamericana\n",
              "7               8        Santos  17  ...  47.2       1.250000      Copa Sulamericana\n",
              "8               9     Fortaleza  16  ...  44.4       1.000000      Copa Sulamericana\n",
              "9              10  Athletico-PR  14  ...  42.4       0.818182      Copa Sulamericana\n",
              "10             11    Fluminense  14  ...  42.4       1.090909      Copa Sulamericana\n",
              "11             12         Ceará  14  ...  38.9       1.166667      Copa Sulamericana\n",
              "\n",
              "[6 rows x 13 columns]"
            ]
          },
          "metadata": {
            "tags": []
          },
          "execution_count": 77
        }
      ]
    },
    {
      "cell_type": "markdown",
      "metadata": {
        "id": "uamZhWWlTzuM"
      },
      "source": [
        "\n",
        "\n",
        "```\n",
        "# Preenchendo os demais dados utilizando a função fillna.\n",
        "dataframe.loc[dataframe['ZONA DE CLASSIFICAÇÃO'] == '', 'ZONA DE CLASSIFICAÇÃO'] = 'Se Manteve'\n",
        "```\n",
        "\n"
      ]
    },
    {
      "cell_type": "code",
      "metadata": {
        "id": "Zgby1rdYg2Ko"
      },
      "source": [
        "# Preenchendo os demais dados utilizando a função fillna.\n",
        "dataframe.loc[dataframe['ZONA DE CLASSIFICAÇÃO'] == '', 'ZONA DE CLASSIFICAÇÃO'] = 'Se Manteve'"
      ],
      "execution_count": null,
      "outputs": []
    },
    {
      "cell_type": "markdown",
      "metadata": {
        "id": "QItkIf-wU0Az"
      },
      "source": [
        "\n",
        "\n",
        "```\n",
        "# Visualizando todos os registros\n",
        "dataframe\n",
        "```\n",
        "\n"
      ]
    },
    {
      "cell_type": "code",
      "metadata": {
        "id": "bVnvqA7Wib9-",
        "outputId": "04ec9193-b676-4074-8dfa-2dda77cf96b1",
        "colab": {
          "base_uri": "https://localhost:8080/",
          "height": 669
        }
      },
      "source": [
        "# Visualizando todos os registros\n",
        "dataframe"
      ],
      "execution_count": null,
      "outputs": [
        {
          "output_type": "execute_result",
          "data": {
            "text/html": [
              "<div>\n",
              "<style scoped>\n",
              "    .dataframe tbody tr th:only-of-type {\n",
              "        vertical-align: middle;\n",
              "    }\n",
              "\n",
              "    .dataframe tbody tr th {\n",
              "        vertical-align: top;\n",
              "    }\n",
              "\n",
              "    .dataframe thead th {\n",
              "        text-align: right;\n",
              "    }\n",
              "</style>\n",
              "<table border=\"1\" class=\"dataframe\">\n",
              "  <thead>\n",
              "    <tr style=\"text-align: right;\">\n",
              "      <th></th>\n",
              "      <th>CLASSIFICAÇÃO</th>\n",
              "      <th>CLUBE</th>\n",
              "      <th>P</th>\n",
              "      <th>J</th>\n",
              "      <th>V</th>\n",
              "      <th>E</th>\n",
              "      <th>D</th>\n",
              "      <th>GP</th>\n",
              "      <th>GC</th>\n",
              "      <th>SG</th>\n",
              "      <th>%</th>\n",
              "      <th>MÉDIA DE GOLS</th>\n",
              "      <th>ZONA DE CLASSIFICAÇÃO</th>\n",
              "    </tr>\n",
              "  </thead>\n",
              "  <tbody>\n",
              "    <tr>\n",
              "      <th>0</th>\n",
              "      <td>1</td>\n",
              "      <td>Atlético-MG</td>\n",
              "      <td>24</td>\n",
              "      <td>11</td>\n",
              "      <td>8</td>\n",
              "      <td>0</td>\n",
              "      <td>3</td>\n",
              "      <td>21</td>\n",
              "      <td>13</td>\n",
              "      <td>8</td>\n",
              "      <td>72.7</td>\n",
              "      <td>1.909091</td>\n",
              "      <td>Libertadores</td>\n",
              "    </tr>\n",
              "    <tr>\n",
              "      <th>1</th>\n",
              "      <td>2</td>\n",
              "      <td>Internacional</td>\n",
              "      <td>21</td>\n",
              "      <td>12</td>\n",
              "      <td>6</td>\n",
              "      <td>3</td>\n",
              "      <td>3</td>\n",
              "      <td>16</td>\n",
              "      <td>8</td>\n",
              "      <td>8</td>\n",
              "      <td>58.3</td>\n",
              "      <td>1.333333</td>\n",
              "      <td>Libertadores</td>\n",
              "    </tr>\n",
              "    <tr>\n",
              "      <th>2</th>\n",
              "      <td>3</td>\n",
              "      <td>São Paulo</td>\n",
              "      <td>19</td>\n",
              "      <td>11</td>\n",
              "      <td>5</td>\n",
              "      <td>4</td>\n",
              "      <td>2</td>\n",
              "      <td>14</td>\n",
              "      <td>12</td>\n",
              "      <td>2</td>\n",
              "      <td>57.6</td>\n",
              "      <td>1.272727</td>\n",
              "      <td>Libertadores</td>\n",
              "    </tr>\n",
              "    <tr>\n",
              "      <th>3</th>\n",
              "      <td>4</td>\n",
              "      <td>Palmeiras</td>\n",
              "      <td>19</td>\n",
              "      <td>11</td>\n",
              "      <td>4</td>\n",
              "      <td>7</td>\n",
              "      <td>0</td>\n",
              "      <td>15</td>\n",
              "      <td>10</td>\n",
              "      <td>5</td>\n",
              "      <td>57.6</td>\n",
              "      <td>1.363636</td>\n",
              "      <td>Libertadores</td>\n",
              "    </tr>\n",
              "    <tr>\n",
              "      <th>4</th>\n",
              "      <td>5</td>\n",
              "      <td>Vasco</td>\n",
              "      <td>18</td>\n",
              "      <td>11</td>\n",
              "      <td>5</td>\n",
              "      <td>3</td>\n",
              "      <td>3</td>\n",
              "      <td>16</td>\n",
              "      <td>11</td>\n",
              "      <td>5</td>\n",
              "      <td>54.5</td>\n",
              "      <td>1.454545</td>\n",
              "      <td>Libertadores</td>\n",
              "    </tr>\n",
              "    <tr>\n",
              "      <th>5</th>\n",
              "      <td>6</td>\n",
              "      <td>Flamengo</td>\n",
              "      <td>18</td>\n",
              "      <td>11</td>\n",
              "      <td>5</td>\n",
              "      <td>3</td>\n",
              "      <td>3</td>\n",
              "      <td>14</td>\n",
              "      <td>14</td>\n",
              "      <td>0</td>\n",
              "      <td>54.5</td>\n",
              "      <td>1.272727</td>\n",
              "      <td>Libertadores</td>\n",
              "    </tr>\n",
              "    <tr>\n",
              "      <th>6</th>\n",
              "      <td>7</td>\n",
              "      <td>Sport</td>\n",
              "      <td>17</td>\n",
              "      <td>12</td>\n",
              "      <td>5</td>\n",
              "      <td>2</td>\n",
              "      <td>5</td>\n",
              "      <td>12</td>\n",
              "      <td>13</td>\n",
              "      <td>-1</td>\n",
              "      <td>47.2</td>\n",
              "      <td>1.000000</td>\n",
              "      <td>Copa Sulamericana</td>\n",
              "    </tr>\n",
              "    <tr>\n",
              "      <th>7</th>\n",
              "      <td>8</td>\n",
              "      <td>Santos</td>\n",
              "      <td>17</td>\n",
              "      <td>12</td>\n",
              "      <td>4</td>\n",
              "      <td>5</td>\n",
              "      <td>3</td>\n",
              "      <td>15</td>\n",
              "      <td>13</td>\n",
              "      <td>2</td>\n",
              "      <td>47.2</td>\n",
              "      <td>1.250000</td>\n",
              "      <td>Copa Sulamericana</td>\n",
              "    </tr>\n",
              "    <tr>\n",
              "      <th>8</th>\n",
              "      <td>9</td>\n",
              "      <td>Fortaleza</td>\n",
              "      <td>16</td>\n",
              "      <td>12</td>\n",
              "      <td>4</td>\n",
              "      <td>4</td>\n",
              "      <td>4</td>\n",
              "      <td>12</td>\n",
              "      <td>10</td>\n",
              "      <td>2</td>\n",
              "      <td>44.4</td>\n",
              "      <td>1.000000</td>\n",
              "      <td>Copa Sulamericana</td>\n",
              "    </tr>\n",
              "    <tr>\n",
              "      <th>9</th>\n",
              "      <td>10</td>\n",
              "      <td>Athletico-PR</td>\n",
              "      <td>14</td>\n",
              "      <td>11</td>\n",
              "      <td>4</td>\n",
              "      <td>2</td>\n",
              "      <td>5</td>\n",
              "      <td>9</td>\n",
              "      <td>10</td>\n",
              "      <td>-1</td>\n",
              "      <td>42.4</td>\n",
              "      <td>0.818182</td>\n",
              "      <td>Copa Sulamericana</td>\n",
              "    </tr>\n",
              "    <tr>\n",
              "      <th>10</th>\n",
              "      <td>11</td>\n",
              "      <td>Fluminense</td>\n",
              "      <td>14</td>\n",
              "      <td>11</td>\n",
              "      <td>4</td>\n",
              "      <td>2</td>\n",
              "      <td>5</td>\n",
              "      <td>12</td>\n",
              "      <td>14</td>\n",
              "      <td>-2</td>\n",
              "      <td>42.4</td>\n",
              "      <td>1.090909</td>\n",
              "      <td>Copa Sulamericana</td>\n",
              "    </tr>\n",
              "    <tr>\n",
              "      <th>11</th>\n",
              "      <td>12</td>\n",
              "      <td>Ceará</td>\n",
              "      <td>14</td>\n",
              "      <td>12</td>\n",
              "      <td>4</td>\n",
              "      <td>2</td>\n",
              "      <td>6</td>\n",
              "      <td>14</td>\n",
              "      <td>18</td>\n",
              "      <td>-4</td>\n",
              "      <td>38.9</td>\n",
              "      <td>1.166667</td>\n",
              "      <td>Copa Sulamericana</td>\n",
              "    </tr>\n",
              "    <tr>\n",
              "      <th>12</th>\n",
              "      <td>13</td>\n",
              "      <td>Atlético-GO</td>\n",
              "      <td>13</td>\n",
              "      <td>11</td>\n",
              "      <td>3</td>\n",
              "      <td>4</td>\n",
              "      <td>4</td>\n",
              "      <td>13</td>\n",
              "      <td>16</td>\n",
              "      <td>-3</td>\n",
              "      <td>39.4</td>\n",
              "      <td>1.181818</td>\n",
              "      <td>Se Manteve</td>\n",
              "    </tr>\n",
              "    <tr>\n",
              "      <th>13</th>\n",
              "      <td>14</td>\n",
              "      <td>Grêmio</td>\n",
              "      <td>13</td>\n",
              "      <td>11</td>\n",
              "      <td>2</td>\n",
              "      <td>7</td>\n",
              "      <td>2</td>\n",
              "      <td>10</td>\n",
              "      <td>10</td>\n",
              "      <td>0</td>\n",
              "      <td>39.4</td>\n",
              "      <td>0.909091</td>\n",
              "      <td>Se Manteve</td>\n",
              "    </tr>\n",
              "    <tr>\n",
              "      <th>14</th>\n",
              "      <td>15</td>\n",
              "      <td>Corinthians</td>\n",
              "      <td>12</td>\n",
              "      <td>11</td>\n",
              "      <td>3</td>\n",
              "      <td>3</td>\n",
              "      <td>5</td>\n",
              "      <td>15</td>\n",
              "      <td>17</td>\n",
              "      <td>-2</td>\n",
              "      <td>36.4</td>\n",
              "      <td>1.363636</td>\n",
              "      <td>Se Manteve</td>\n",
              "    </tr>\n",
              "    <tr>\n",
              "      <th>15</th>\n",
              "      <td>16</td>\n",
              "      <td>Coritiba</td>\n",
              "      <td>11</td>\n",
              "      <td>11</td>\n",
              "      <td>3</td>\n",
              "      <td>2</td>\n",
              "      <td>6</td>\n",
              "      <td>8</td>\n",
              "      <td>12</td>\n",
              "      <td>-4</td>\n",
              "      <td>33.3</td>\n",
              "      <td>0.727273</td>\n",
              "      <td>Se Manteve</td>\n",
              "    </tr>\n",
              "    <tr>\n",
              "      <th>16</th>\n",
              "      <td>17</td>\n",
              "      <td>Bragantino</td>\n",
              "      <td>11</td>\n",
              "      <td>12</td>\n",
              "      <td>2</td>\n",
              "      <td>5</td>\n",
              "      <td>5</td>\n",
              "      <td>15</td>\n",
              "      <td>19</td>\n",
              "      <td>-4</td>\n",
              "      <td>30.6</td>\n",
              "      <td>1.250000</td>\n",
              "      <td>Rebaixados</td>\n",
              "    </tr>\n",
              "    <tr>\n",
              "      <th>17</th>\n",
              "      <td>18</td>\n",
              "      <td>Botafogo</td>\n",
              "      <td>11</td>\n",
              "      <td>11</td>\n",
              "      <td>1</td>\n",
              "      <td>8</td>\n",
              "      <td>2</td>\n",
              "      <td>10</td>\n",
              "      <td>12</td>\n",
              "      <td>-2</td>\n",
              "      <td>33.3</td>\n",
              "      <td>0.909091</td>\n",
              "      <td>Rebaixados</td>\n",
              "    </tr>\n",
              "    <tr>\n",
              "      <th>18</th>\n",
              "      <td>19</td>\n",
              "      <td>Goiás</td>\n",
              "      <td>9</td>\n",
              "      <td>9</td>\n",
              "      <td>2</td>\n",
              "      <td>3</td>\n",
              "      <td>4</td>\n",
              "      <td>13</td>\n",
              "      <td>15</td>\n",
              "      <td>-2</td>\n",
              "      <td>33.3</td>\n",
              "      <td>1.444444</td>\n",
              "      <td>Rebaixados</td>\n",
              "    </tr>\n",
              "    <tr>\n",
              "      <th>19</th>\n",
              "      <td>20</td>\n",
              "      <td>Bahia</td>\n",
              "      <td>9</td>\n",
              "      <td>11</td>\n",
              "      <td>2</td>\n",
              "      <td>3</td>\n",
              "      <td>6</td>\n",
              "      <td>12</td>\n",
              "      <td>19</td>\n",
              "      <td>-7</td>\n",
              "      <td>27.3</td>\n",
              "      <td>1.090909</td>\n",
              "      <td>Rebaixados</td>\n",
              "    </tr>\n",
              "  </tbody>\n",
              "</table>\n",
              "</div>"
            ],
            "text/plain": [
              "    CLASSIFICAÇÃO          CLUBE   P  ...     %  MÉDIA DE GOLS  ZONA DE CLASSIFICAÇÃO\n",
              "0               1    Atlético-MG  24  ...  72.7       1.909091           Libertadores\n",
              "1               2  Internacional  21  ...  58.3       1.333333           Libertadores\n",
              "2               3      São Paulo  19  ...  57.6       1.272727           Libertadores\n",
              "3               4      Palmeiras  19  ...  57.6       1.363636           Libertadores\n",
              "4               5          Vasco  18  ...  54.5       1.454545           Libertadores\n",
              "5               6       Flamengo  18  ...  54.5       1.272727           Libertadores\n",
              "6               7          Sport  17  ...  47.2       1.000000      Copa Sulamericana\n",
              "7               8         Santos  17  ...  47.2       1.250000      Copa Sulamericana\n",
              "8               9      Fortaleza  16  ...  44.4       1.000000      Copa Sulamericana\n",
              "9              10   Athletico-PR  14  ...  42.4       0.818182      Copa Sulamericana\n",
              "10             11     Fluminense  14  ...  42.4       1.090909      Copa Sulamericana\n",
              "11             12          Ceará  14  ...  38.9       1.166667      Copa Sulamericana\n",
              "12             13    Atlético-GO  13  ...  39.4       1.181818             Se Manteve\n",
              "13             14         Grêmio  13  ...  39.4       0.909091             Se Manteve\n",
              "14             15    Corinthians  12  ...  36.4       1.363636             Se Manteve\n",
              "15             16       Coritiba  11  ...  33.3       0.727273             Se Manteve\n",
              "16             17     Bragantino  11  ...  30.6       1.250000             Rebaixados\n",
              "17             18       Botafogo  11  ...  33.3       0.909091             Rebaixados\n",
              "18             19          Goiás   9  ...  33.3       1.444444             Rebaixados\n",
              "19             20          Bahia   9  ...  27.3       1.090909             Rebaixados\n",
              "\n",
              "[20 rows x 13 columns]"
            ]
          },
          "metadata": {
            "tags": []
          },
          "execution_count": 79
        }
      ]
    },
    {
      "cell_type": "markdown",
      "metadata": {
        "id": "PfxACmsHihrv"
      },
      "source": [
        "Há outras formas de preenchimento dos dados, inclusive aplicando funções aos registros do DataFrame, mas isso não será abordado aqui."
      ]
    },
    {
      "cell_type": "markdown",
      "metadata": {
        "id": "eKtW1DpKpfOS"
      },
      "source": [
        "####**Não para por aí! O Pandas possui um kit de gráficos para apresentação dos dados.**####"
      ]
    },
    {
      "cell_type": "markdown",
      "metadata": {
        "id": "Xd0KjySapyK4"
      },
      "source": [
        "Já carregamos os dados, manipulamos, agora podemos demonstrar gráficamente a relação entre as variáveis do nosso DataFrame.\n",
        "\n",
        "O Pandas disponibiliza nativamente uma série de gráficos para nos auxiliar neste trabalho. Os principais são:\n",
        "\n",
        "*   Linha\n",
        "*   Barras\n",
        "*   Histograma\n",
        "*   Área\n",
        "*   Dispersão\n",
        "*   Pizza\n",
        "\n",
        "Vamos ver como funciona alguns deles.\n",
        "\n",
        "\n"
      ]
    },
    {
      "cell_type": "markdown",
      "metadata": {
        "id": "6tmnMpclWq5B"
      },
      "source": [
        "Demonstraremos em um gráfico de linhas a relação entre a Classificação dos clubes e a Média de Gols que calculamos anteriormente."
      ]
    },
    {
      "cell_type": "markdown",
      "metadata": {
        "id": "3EH8SnLDVZ8n"
      },
      "source": [
        "\n",
        "\n",
        "```\n",
        "# Basta informar qual coluna do nosso DataFrame será o eixo X e Y.\n",
        "dataframe.plot(x='CLASSIFICAÇÃO', y='MÉDIA DE GOLS')\n",
        "```\n",
        "\n"
      ]
    },
    {
      "cell_type": "code",
      "metadata": {
        "id": "D-CGRZjhrzIv",
        "outputId": "ab9e543a-4659-4b69-87c8-fbe3af695cfa",
        "colab": {
          "base_uri": "https://localhost:8080/",
          "height": 298
        }
      },
      "source": [
        "# Basta informar qual coluna do nosso DataFrame será o eixo X e Y.\n",
        "dataframe.plot(x='CLASSIFICAÇÃO', y='MÉDIA DE GOLS')"
      ],
      "execution_count": null,
      "outputs": [
        {
          "output_type": "execute_result",
          "data": {
            "text/plain": [
              "<matplotlib.axes._subplots.AxesSubplot at 0x7eff90129da0>"
            ]
          },
          "metadata": {
            "tags": []
          },
          "execution_count": 85
        },
        {
          "output_type": "display_data",
          "data": {
            "image/png": "[encoded data removed]",
            "text/plain": [
              "<Figure size 432x288 with 1 Axes>"
            ]
          },
          "metadata": {
            "tags": [],
            "needs_background": "light"
          }
        }
      ]
    },
    {
      "cell_type": "markdown",
      "metadata": {
        "id": "AN5-SrFWXOE7"
      },
      "source": [
        "Com o código abaixo teremos um gráfico de dispersão onde podemos ver a relação entre as duas variáveis, Vitórias e Gols Marcados."
      ]
    },
    {
      "cell_type": "markdown",
      "metadata": {
        "id": "9PMLmJbPWCaO"
      },
      "source": [
        "\n",
        "\n",
        "```\n",
        "dataframe.plot.scatter(x='V', y='GP')\n",
        "```\n",
        "\n"
      ]
    },
    {
      "cell_type": "code",
      "metadata": {
        "id": "ENTz4rKfuvvl",
        "outputId": "53f03144-392a-45ce-b2af-b586b18fbe38",
        "colab": {
          "base_uri": "https://localhost:8080/",
          "height": 296
        }
      },
      "source": [
        "dataframe.plot.scatter(x='V', y='GP')"
      ],
      "execution_count": null,
      "outputs": [
        {
          "output_type": "execute_result",
          "data": {
            "text/plain": [
              "<matplotlib.axes._subplots.AxesSubplot at 0x7eff90309860>"
            ]
          },
          "metadata": {
            "tags": []
          },
          "execution_count": 81
        },
        {
          "output_type": "display_data",
          "data": {
            "image/png": "[encoded data removed]",
            "text/plain": [
              "<Figure size 432x288 with 1 Axes>"
            ]
          },
          "metadata": {
            "tags": [],
            "needs_background": "light"
          }
        }
      ]
    },
    {
      "cell_type": "markdown",
      "metadata": {
        "id": "BeZk9Bt7XkEp"
      },
      "source": [
        "Neste gráfico de barras, verificamos o Saldo de Gols por Clube.\n"
      ]
    },
    {
      "cell_type": "markdown",
      "metadata": {
        "id": "G4K6jiLfWdXS"
      },
      "source": [
        "\n",
        "\n",
        "```\n",
        "dataframe.plot.bar(y='SG', x='CLUBE')\n",
        "```\n",
        "\n"
      ]
    },
    {
      "cell_type": "code",
      "metadata": {
        "id": "kXXRDDo1xRpV",
        "outputId": "bee3914a-73fc-4946-bf87-28148e07fdf8",
        "colab": {
          "base_uri": "https://localhost:8080/",
          "height": 352
        }
      },
      "source": [
        "dataframe.plot.bar(y='SG', x='CLUBE')"
      ],
      "execution_count": null,
      "outputs": [
        {
          "output_type": "execute_result",
          "data": {
            "text/plain": [
              "<matplotlib.axes._subplots.AxesSubplot at 0x7eff902d0240>"
            ]
          },
          "metadata": {
            "tags": []
          },
          "execution_count": 82
        },
        {
          "output_type": "display_data",
          "data": {
            "image/png": "[encoded data removed]",
            "text/plain": [
              "<Figure size 432x288 with 1 Axes>"
            ]
          },
          "metadata": {
            "tags": [],
            "needs_background": "light"
          }
        }
      ]
    },
    {
      "cell_type": "markdown",
      "metadata": {
        "id": "U71osmuIzJcO"
      },
      "source": [
        "Vale lembrar que é um kit de gráficos bastante amplo e podemos personalizá-los de várias maneiras. Portanto, isso seria assunto para um outro dia."
      ]
    },
    {
      "cell_type": "markdown",
      "metadata": {
        "id": "VPXhMs0_YJa4"
      },
      "source": [
        "####**Por hoje é só pessoal! Mas e o DataFrame, vou perder meus dados manipulados?**####"
      ]
    },
    {
      "cell_type": "markdown",
      "metadata": {
        "id": "AfSBzFfjZdns"
      },
      "source": [
        "Claro que não! O Pandas nos permite escrever o DataFrame em arquivo ou em um banco de dados. Não precisa dizer que todo esse processo é simples, certo?"
      ]
    },
    {
      "cell_type": "markdown",
      "metadata": {
        "id": "1-ewvX0wa0IS"
      },
      "source": [
        "Vamos gravar nosso registros de volta em um arquivo em Excel."
      ]
    },
    {
      "cell_type": "markdown",
      "metadata": {
        "id": "1taCE9RrWxU2"
      },
      "source": [
        "\n",
        "\n",
        "```\n",
        "# Basta informar o caminho e nome do arquivo para gerar o Excel\n",
        "# O segundo parâmetro é opcional e informa que não desejamos exportar a coluna índice do DataFrame\n",
        "dataframe.to_excel('tabela_campeonato_brasileiro_2020_v2.xlsx', index=False)\n",
        "```\n",
        "\n"
      ]
    },
    {
      "cell_type": "code",
      "metadata": {
        "id": "ILAnRcy6bqr5"
      },
      "source": [
        "# Basta informar o caminho e nome do arquivo para gerar o Excel\n",
        "# O segundo parâmetro é opcional e informa que não desejamos exportar a coluna índice do DataFrame\n",
        "dataframe.to_excel('tabela_campeonato_brasileiro_2020_v2.xlsx', index=False)"
      ],
      "execution_count": null,
      "outputs": []
    },
    {
      "cell_type": "markdown",
      "metadata": {
        "id": "C_vHc-KxdblI"
      },
      "source": [
        "###**Conclusão**###"
      ]
    },
    {
      "cell_type": "markdown",
      "metadata": {
        "id": "KmI5QsvVecJE"
      },
      "source": [
        "Não dá pra negar que o Pandas é uma mão na roda não é mesmo? Demonstramos algumas funcionalidades dessa biblioteca que faz de tudo um pouco e o melhor, com poucas linhas de código! E não daria pra entrar no detalhe de cada funcionalidade, até por que no site que mencionei dos univesitários, tem um inúmeros exemplos e uma documentação pra dias de leitura. Enfim, creio que seja leitura obrigatória pra quem deseja trabalhar com o Python e Ciência de Dados, mesmo que seja para uma consulta ali, outra aqui. That's all folks!"
      ]
    }
  ]
}